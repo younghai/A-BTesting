{
 "cells": [
  {
   "cell_type": "code",
   "execution_count": 85,
   "metadata": {},
   "outputs": [],
   "source": [
    "import pandas as pd\n",
    "import numpy as np\n",
    "from statsmodels.stats import weightstats as stests\n",
    "from statsmodels.stats.proportion import proportions_ztest"
   ]
  },
  {
   "cell_type": "markdown",
   "metadata": {},
   "source": [
    "## DATA OVERVIEW & DATA PREPARATION"
   ]
  },
  {
   "cell_type": "code",
   "execution_count": 86,
   "metadata": {},
   "outputs": [
    {
     "data": {
      "text/html": [
       "<div>\n",
       "<style scoped>\n",
       "    .dataframe tbody tr th:only-of-type {\n",
       "        vertical-align: middle;\n",
       "    }\n",
       "\n",
       "    .dataframe tbody tr th {\n",
       "        vertical-align: top;\n",
       "    }\n",
       "\n",
       "    .dataframe thead th {\n",
       "        text-align: right;\n",
       "    }\n",
       "</style>\n",
       "<table border=\"1\" class=\"dataframe\">\n",
       "  <thead>\n",
       "    <tr style=\"text-align: right;\">\n",
       "      <th></th>\n",
       "      <th>client_id</th>\n",
       "      <th>clnt_tenure_yr</th>\n",
       "      <th>clnt_tenure_mnth</th>\n",
       "      <th>clnt_age</th>\n",
       "      <th>gendr</th>\n",
       "      <th>num_accts</th>\n",
       "      <th>bal</th>\n",
       "      <th>calls_6_mnth</th>\n",
       "      <th>logons_6_mnth</th>\n",
       "    </tr>\n",
       "  </thead>\n",
       "  <tbody>\n",
       "    <tr>\n",
       "      <th>0</th>\n",
       "      <td>836976</td>\n",
       "      <td>6.0</td>\n",
       "      <td>73.0</td>\n",
       "      <td>60.5</td>\n",
       "      <td>U</td>\n",
       "      <td>2.0</td>\n",
       "      <td>45105.30</td>\n",
       "      <td>6.0</td>\n",
       "      <td>9.0</td>\n",
       "    </tr>\n",
       "    <tr>\n",
       "      <th>1</th>\n",
       "      <td>2304905</td>\n",
       "      <td>7.0</td>\n",
       "      <td>94.0</td>\n",
       "      <td>58.0</td>\n",
       "      <td>U</td>\n",
       "      <td>2.0</td>\n",
       "      <td>110860.30</td>\n",
       "      <td>6.0</td>\n",
       "      <td>9.0</td>\n",
       "    </tr>\n",
       "    <tr>\n",
       "      <th>2</th>\n",
       "      <td>1439522</td>\n",
       "      <td>5.0</td>\n",
       "      <td>64.0</td>\n",
       "      <td>32.0</td>\n",
       "      <td>U</td>\n",
       "      <td>2.0</td>\n",
       "      <td>52467.79</td>\n",
       "      <td>6.0</td>\n",
       "      <td>9.0</td>\n",
       "    </tr>\n",
       "    <tr>\n",
       "      <th>3</th>\n",
       "      <td>1562045</td>\n",
       "      <td>16.0</td>\n",
       "      <td>198.0</td>\n",
       "      <td>49.0</td>\n",
       "      <td>M</td>\n",
       "      <td>2.0</td>\n",
       "      <td>67454.65</td>\n",
       "      <td>3.0</td>\n",
       "      <td>6.0</td>\n",
       "    </tr>\n",
       "    <tr>\n",
       "      <th>4</th>\n",
       "      <td>5126305</td>\n",
       "      <td>12.0</td>\n",
       "      <td>145.0</td>\n",
       "      <td>33.0</td>\n",
       "      <td>F</td>\n",
       "      <td>2.0</td>\n",
       "      <td>103671.75</td>\n",
       "      <td>0.0</td>\n",
       "      <td>3.0</td>\n",
       "    </tr>\n",
       "  </tbody>\n",
       "</table>\n",
       "</div>"
      ],
      "text/plain": [
       "   client_id  clnt_tenure_yr  clnt_tenure_mnth  clnt_age gendr  num_accts  \\\n",
       "0     836976             6.0              73.0      60.5     U        2.0   \n",
       "1    2304905             7.0              94.0      58.0     U        2.0   \n",
       "2    1439522             5.0              64.0      32.0     U        2.0   \n",
       "3    1562045            16.0             198.0      49.0     M        2.0   \n",
       "4    5126305            12.0             145.0      33.0     F        2.0   \n",
       "\n",
       "         bal  calls_6_mnth  logons_6_mnth  \n",
       "0   45105.30           6.0            9.0  \n",
       "1  110860.30           6.0            9.0  \n",
       "2   52467.79           6.0            9.0  \n",
       "3   67454.65           3.0            6.0  \n",
       "4  103671.75           0.0            3.0  "
      ]
     },
     "execution_count": 86,
     "metadata": {},
     "output_type": "execute_result"
    }
   ],
   "source": [
    "#Read file into pandas datafram\n",
    "demo=pd.read_excel('/Users/ashishtomar/Documents/Applications/Vanguard/Case Study/Case Study/df_final_demo.xlsx')\n",
    "demo.head()"
   ]
  },
  {
   "cell_type": "code",
   "execution_count": 87,
   "metadata": {},
   "outputs": [
    {
     "name": "stdout",
     "output_type": "stream",
     "text": [
      "<class 'pandas.core.frame.DataFrame'>\n",
      "RangeIndex: 70609 entries, 0 to 70608\n",
      "Data columns (total 9 columns):\n",
      " #   Column            Non-Null Count  Dtype  \n",
      "---  ------            --------------  -----  \n",
      " 0   client_id         70609 non-null  int64  \n",
      " 1   clnt_tenure_yr    70595 non-null  float64\n",
      " 2   clnt_tenure_mnth  70595 non-null  float64\n",
      " 3   clnt_age          70594 non-null  float64\n",
      " 4   gendr             70595 non-null  object \n",
      " 5   num_accts         70595 non-null  float64\n",
      " 6   bal               70595 non-null  float64\n",
      " 7   calls_6_mnth      70595 non-null  float64\n",
      " 8   logons_6_mnth     70595 non-null  float64\n",
      "dtypes: float64(7), int64(1), object(1)\n",
      "memory usage: 4.8+ MB\n"
     ]
    }
   ],
   "source": [
    "demo.info()"
   ]
  },
  {
   "cell_type": "code",
   "execution_count": 88,
   "metadata": {},
   "outputs": [
    {
     "data": {
      "text/plain": [
       "client_id            0\n",
       "clnt_tenure_yr      14\n",
       "clnt_tenure_mnth    14\n",
       "clnt_age            15\n",
       "gendr               14\n",
       "num_accts           14\n",
       "bal                 14\n",
       "calls_6_mnth        14\n",
       "logons_6_mnth       14\n",
       "dtype: int64"
      ]
     },
     "execution_count": 88,
     "metadata": {},
     "output_type": "execute_result"
    }
   ],
   "source": [
    "demo.isnull().sum()"
   ]
  },
  {
   "cell_type": "code",
   "execution_count": 89,
   "metadata": {},
   "outputs": [
    {
     "data": {
      "text/html": [
       "<div>\n",
       "<style scoped>\n",
       "    .dataframe tbody tr th:only-of-type {\n",
       "        vertical-align: middle;\n",
       "    }\n",
       "\n",
       "    .dataframe tbody tr th {\n",
       "        vertical-align: top;\n",
       "    }\n",
       "\n",
       "    .dataframe thead th {\n",
       "        text-align: right;\n",
       "    }\n",
       "</style>\n",
       "<table border=\"1\" class=\"dataframe\">\n",
       "  <thead>\n",
       "    <tr style=\"text-align: right;\">\n",
       "      <th></th>\n",
       "      <th>client_id</th>\n",
       "      <th>clnt_tenure_yr</th>\n",
       "      <th>clnt_tenure_mnth</th>\n",
       "      <th>clnt_age</th>\n",
       "      <th>gendr</th>\n",
       "      <th>num_accts</th>\n",
       "      <th>bal</th>\n",
       "      <th>calls_6_mnth</th>\n",
       "      <th>logons_6_mnth</th>\n",
       "    </tr>\n",
       "  </thead>\n",
       "  <tbody>\n",
       "    <tr>\n",
       "      <th>4164</th>\n",
       "      <td>7402828</td>\n",
       "      <td>NaN</td>\n",
       "      <td>NaN</td>\n",
       "      <td>NaN</td>\n",
       "      <td>NaN</td>\n",
       "      <td>NaN</td>\n",
       "      <td>NaN</td>\n",
       "      <td>NaN</td>\n",
       "      <td>NaN</td>\n",
       "    </tr>\n",
       "    <tr>\n",
       "      <th>8316</th>\n",
       "      <td>355337</td>\n",
       "      <td>NaN</td>\n",
       "      <td>NaN</td>\n",
       "      <td>NaN</td>\n",
       "      <td>NaN</td>\n",
       "      <td>NaN</td>\n",
       "      <td>NaN</td>\n",
       "      <td>NaN</td>\n",
       "      <td>NaN</td>\n",
       "    </tr>\n",
       "    <tr>\n",
       "      <th>8677</th>\n",
       "      <td>8412164</td>\n",
       "      <td>NaN</td>\n",
       "      <td>NaN</td>\n",
       "      <td>NaN</td>\n",
       "      <td>NaN</td>\n",
       "      <td>NaN</td>\n",
       "      <td>NaN</td>\n",
       "      <td>NaN</td>\n",
       "      <td>NaN</td>\n",
       "    </tr>\n",
       "    <tr>\n",
       "      <th>9583</th>\n",
       "      <td>4666211</td>\n",
       "      <td>8.0</td>\n",
       "      <td>106.0</td>\n",
       "      <td>NaN</td>\n",
       "      <td>F</td>\n",
       "      <td>2.0</td>\n",
       "      <td>42550.55</td>\n",
       "      <td>4.0</td>\n",
       "      <td>7.0</td>\n",
       "    </tr>\n",
       "    <tr>\n",
       "      <th>13444</th>\n",
       "      <td>2222915</td>\n",
       "      <td>NaN</td>\n",
       "      <td>NaN</td>\n",
       "      <td>NaN</td>\n",
       "      <td>NaN</td>\n",
       "      <td>NaN</td>\n",
       "      <td>NaN</td>\n",
       "      <td>NaN</td>\n",
       "      <td>NaN</td>\n",
       "    </tr>\n",
       "    <tr>\n",
       "      <th>18066</th>\n",
       "      <td>4876926</td>\n",
       "      <td>NaN</td>\n",
       "      <td>NaN</td>\n",
       "      <td>NaN</td>\n",
       "      <td>NaN</td>\n",
       "      <td>NaN</td>\n",
       "      <td>NaN</td>\n",
       "      <td>NaN</td>\n",
       "      <td>NaN</td>\n",
       "    </tr>\n",
       "    <tr>\n",
       "      <th>25961</th>\n",
       "      <td>5277910</td>\n",
       "      <td>NaN</td>\n",
       "      <td>NaN</td>\n",
       "      <td>NaN</td>\n",
       "      <td>NaN</td>\n",
       "      <td>NaN</td>\n",
       "      <td>NaN</td>\n",
       "      <td>NaN</td>\n",
       "      <td>NaN</td>\n",
       "    </tr>\n",
       "    <tr>\n",
       "      <th>28432</th>\n",
       "      <td>7616759</td>\n",
       "      <td>NaN</td>\n",
       "      <td>NaN</td>\n",
       "      <td>NaN</td>\n",
       "      <td>NaN</td>\n",
       "      <td>NaN</td>\n",
       "      <td>NaN</td>\n",
       "      <td>NaN</td>\n",
       "      <td>NaN</td>\n",
       "    </tr>\n",
       "    <tr>\n",
       "      <th>35323</th>\n",
       "      <td>8191345</td>\n",
       "      <td>NaN</td>\n",
       "      <td>NaN</td>\n",
       "      <td>NaN</td>\n",
       "      <td>NaN</td>\n",
       "      <td>NaN</td>\n",
       "      <td>NaN</td>\n",
       "      <td>NaN</td>\n",
       "      <td>NaN</td>\n",
       "    </tr>\n",
       "    <tr>\n",
       "      <th>43518</th>\n",
       "      <td>1227228</td>\n",
       "      <td>NaN</td>\n",
       "      <td>NaN</td>\n",
       "      <td>NaN</td>\n",
       "      <td>NaN</td>\n",
       "      <td>NaN</td>\n",
       "      <td>NaN</td>\n",
       "      <td>NaN</td>\n",
       "      <td>NaN</td>\n",
       "    </tr>\n",
       "    <tr>\n",
       "      <th>46076</th>\n",
       "      <td>8611797</td>\n",
       "      <td>NaN</td>\n",
       "      <td>NaN</td>\n",
       "      <td>NaN</td>\n",
       "      <td>NaN</td>\n",
       "      <td>NaN</td>\n",
       "      <td>NaN</td>\n",
       "      <td>NaN</td>\n",
       "      <td>NaN</td>\n",
       "    </tr>\n",
       "    <tr>\n",
       "      <th>47189</th>\n",
       "      <td>5144725</td>\n",
       "      <td>NaN</td>\n",
       "      <td>NaN</td>\n",
       "      <td>NaN</td>\n",
       "      <td>NaN</td>\n",
       "      <td>NaN</td>\n",
       "      <td>NaN</td>\n",
       "      <td>NaN</td>\n",
       "      <td>NaN</td>\n",
       "    </tr>\n",
       "    <tr>\n",
       "      <th>49846</th>\n",
       "      <td>1037867</td>\n",
       "      <td>NaN</td>\n",
       "      <td>NaN</td>\n",
       "      <td>NaN</td>\n",
       "      <td>NaN</td>\n",
       "      <td>NaN</td>\n",
       "      <td>NaN</td>\n",
       "      <td>NaN</td>\n",
       "      <td>NaN</td>\n",
       "    </tr>\n",
       "    <tr>\n",
       "      <th>63701</th>\n",
       "      <td>1618749</td>\n",
       "      <td>NaN</td>\n",
       "      <td>NaN</td>\n",
       "      <td>NaN</td>\n",
       "      <td>NaN</td>\n",
       "      <td>NaN</td>\n",
       "      <td>NaN</td>\n",
       "      <td>NaN</td>\n",
       "      <td>NaN</td>\n",
       "    </tr>\n",
       "    <tr>\n",
       "      <th>66219</th>\n",
       "      <td>6021001</td>\n",
       "      <td>NaN</td>\n",
       "      <td>NaN</td>\n",
       "      <td>NaN</td>\n",
       "      <td>NaN</td>\n",
       "      <td>NaN</td>\n",
       "      <td>NaN</td>\n",
       "      <td>NaN</td>\n",
       "      <td>NaN</td>\n",
       "    </tr>\n",
       "  </tbody>\n",
       "</table>\n",
       "</div>"
      ],
      "text/plain": [
       "       client_id  clnt_tenure_yr  clnt_tenure_mnth  clnt_age gendr  num_accts  \\\n",
       "4164     7402828             NaN               NaN       NaN   NaN        NaN   \n",
       "8316      355337             NaN               NaN       NaN   NaN        NaN   \n",
       "8677     8412164             NaN               NaN       NaN   NaN        NaN   \n",
       "9583     4666211             8.0             106.0       NaN     F        2.0   \n",
       "13444    2222915             NaN               NaN       NaN   NaN        NaN   \n",
       "18066    4876926             NaN               NaN       NaN   NaN        NaN   \n",
       "25961    5277910             NaN               NaN       NaN   NaN        NaN   \n",
       "28432    7616759             NaN               NaN       NaN   NaN        NaN   \n",
       "35323    8191345             NaN               NaN       NaN   NaN        NaN   \n",
       "43518    1227228             NaN               NaN       NaN   NaN        NaN   \n",
       "46076    8611797             NaN               NaN       NaN   NaN        NaN   \n",
       "47189    5144725             NaN               NaN       NaN   NaN        NaN   \n",
       "49846    1037867             NaN               NaN       NaN   NaN        NaN   \n",
       "63701    1618749             NaN               NaN       NaN   NaN        NaN   \n",
       "66219    6021001             NaN               NaN       NaN   NaN        NaN   \n",
       "\n",
       "            bal  calls_6_mnth  logons_6_mnth  \n",
       "4164        NaN           NaN            NaN  \n",
       "8316        NaN           NaN            NaN  \n",
       "8677        NaN           NaN            NaN  \n",
       "9583   42550.55           4.0            7.0  \n",
       "13444       NaN           NaN            NaN  \n",
       "18066       NaN           NaN            NaN  \n",
       "25961       NaN           NaN            NaN  \n",
       "28432       NaN           NaN            NaN  \n",
       "35323       NaN           NaN            NaN  \n",
       "43518       NaN           NaN            NaN  \n",
       "46076       NaN           NaN            NaN  \n",
       "47189       NaN           NaN            NaN  \n",
       "49846       NaN           NaN            NaN  \n",
       "63701       NaN           NaN            NaN  \n",
       "66219       NaN           NaN            NaN  "
      ]
     },
     "execution_count": 89,
     "metadata": {},
     "output_type": "execute_result"
    }
   ],
   "source": [
    "#Checking for the null rows\n",
    "demo[demo[\"clnt_age\"].isnull()]"
   ]
  },
  {
   "cell_type": "code",
   "execution_count": 90,
   "metadata": {},
   "outputs": [
    {
     "name": "stdout",
     "output_type": "stream",
     "text": [
      "<class 'pandas.core.frame.DataFrame'>\n",
      "Int64Index: 70594 entries, 0 to 70608\n",
      "Data columns (total 9 columns):\n",
      " #   Column            Non-Null Count  Dtype  \n",
      "---  ------            --------------  -----  \n",
      " 0   client_id         70594 non-null  int64  \n",
      " 1   clnt_tenure_yr    70594 non-null  float64\n",
      " 2   clnt_tenure_mnth  70594 non-null  float64\n",
      " 3   clnt_age          70594 non-null  float64\n",
      " 4   gendr             70594 non-null  object \n",
      " 5   num_accts         70594 non-null  float64\n",
      " 6   bal               70594 non-null  float64\n",
      " 7   calls_6_mnth      70594 non-null  float64\n",
      " 8   logons_6_mnth     70594 non-null  float64\n",
      "dtypes: float64(7), int64(1), object(1)\n",
      "memory usage: 5.4+ MB\n"
     ]
    }
   ],
   "source": [
    "demo=demo[demo[\"clnt_age\"].notnull()]\n",
    "demo.info()"
   ]
  },
  {
   "cell_type": "code",
   "execution_count": 91,
   "metadata": {},
   "outputs": [
    {
     "data": {
      "text/html": [
       "<div>\n",
       "<style scoped>\n",
       "    .dataframe tbody tr th:only-of-type {\n",
       "        vertical-align: middle;\n",
       "    }\n",
       "\n",
       "    .dataframe tbody tr th {\n",
       "        vertical-align: top;\n",
       "    }\n",
       "\n",
       "    .dataframe thead th {\n",
       "        text-align: right;\n",
       "    }\n",
       "</style>\n",
       "<table border=\"1\" class=\"dataframe\">\n",
       "  <thead>\n",
       "    <tr style=\"text-align: right;\">\n",
       "      <th></th>\n",
       "      <th>client_id</th>\n",
       "      <th>visitor_id</th>\n",
       "      <th>visit_id</th>\n",
       "      <th>process_step</th>\n",
       "      <th>date_time</th>\n",
       "    </tr>\n",
       "  </thead>\n",
       "  <tbody>\n",
       "    <tr>\n",
       "      <th>0</th>\n",
       "      <td>9988021</td>\n",
       "      <td>580560515_7732621733</td>\n",
       "      <td>781255054_21935453173_531117</td>\n",
       "      <td>step_3</td>\n",
       "      <td>2017-04-17 15:27:07</td>\n",
       "    </tr>\n",
       "    <tr>\n",
       "      <th>1</th>\n",
       "      <td>9988021</td>\n",
       "      <td>580560515_7732621733</td>\n",
       "      <td>781255054_21935453173_531117</td>\n",
       "      <td>step_2</td>\n",
       "      <td>2017-04-17 15:26:51</td>\n",
       "    </tr>\n",
       "    <tr>\n",
       "      <th>2</th>\n",
       "      <td>9988021</td>\n",
       "      <td>580560515_7732621733</td>\n",
       "      <td>781255054_21935453173_531117</td>\n",
       "      <td>step_3</td>\n",
       "      <td>2017-04-17 15:19:22</td>\n",
       "    </tr>\n",
       "    <tr>\n",
       "      <th>3</th>\n",
       "      <td>9988021</td>\n",
       "      <td>580560515_7732621733</td>\n",
       "      <td>781255054_21935453173_531117</td>\n",
       "      <td>step_2</td>\n",
       "      <td>2017-04-17 15:19:13</td>\n",
       "    </tr>\n",
       "    <tr>\n",
       "      <th>4</th>\n",
       "      <td>9988021</td>\n",
       "      <td>580560515_7732621733</td>\n",
       "      <td>781255054_21935453173_531117</td>\n",
       "      <td>step_3</td>\n",
       "      <td>2017-04-17 15:18:04</td>\n",
       "    </tr>\n",
       "  </tbody>\n",
       "</table>\n",
       "</div>"
      ],
      "text/plain": [
       "   client_id            visitor_id                      visit_id process_step  \\\n",
       "0    9988021  580560515_7732621733  781255054_21935453173_531117       step_3   \n",
       "1    9988021  580560515_7732621733  781255054_21935453173_531117       step_2   \n",
       "2    9988021  580560515_7732621733  781255054_21935453173_531117       step_3   \n",
       "3    9988021  580560515_7732621733  781255054_21935453173_531117       step_2   \n",
       "4    9988021  580560515_7732621733  781255054_21935453173_531117       step_3   \n",
       "\n",
       "            date_time  \n",
       "0 2017-04-17 15:27:07  \n",
       "1 2017-04-17 15:26:51  \n",
       "2 2017-04-17 15:19:22  \n",
       "3 2017-04-17 15:19:13  \n",
       "4 2017-04-17 15:18:04  "
      ]
     },
     "execution_count": 91,
     "metadata": {},
     "output_type": "execute_result"
    }
   ],
   "source": [
    "web1=pd.read_excel('/Users/ashishtomar/Documents/Applications/Vanguard/Case Study/Case Study/df_final_web_data_pt_1.xlsx')\n",
    "web1.head()"
   ]
  },
  {
   "cell_type": "code",
   "execution_count": 92,
   "metadata": {},
   "outputs": [
    {
     "data": {
      "text/html": [
       "<div>\n",
       "<style scoped>\n",
       "    .dataframe tbody tr th:only-of-type {\n",
       "        vertical-align: middle;\n",
       "    }\n",
       "\n",
       "    .dataframe tbody tr th {\n",
       "        vertical-align: top;\n",
       "    }\n",
       "\n",
       "    .dataframe thead th {\n",
       "        text-align: right;\n",
       "    }\n",
       "</style>\n",
       "<table border=\"1\" class=\"dataframe\">\n",
       "  <thead>\n",
       "    <tr style=\"text-align: right;\">\n",
       "      <th></th>\n",
       "      <th>client_id</th>\n",
       "      <th>visitor_id</th>\n",
       "      <th>visit_id</th>\n",
       "      <th>process_step</th>\n",
       "      <th>date_time</th>\n",
       "    </tr>\n",
       "  </thead>\n",
       "  <tbody>\n",
       "    <tr>\n",
       "      <th>0</th>\n",
       "      <td>763412</td>\n",
       "      <td>601952081_10457207388</td>\n",
       "      <td>397475557_40440946728_419634</td>\n",
       "      <td>confirm</td>\n",
       "      <td>2017-06-06 08:56:00</td>\n",
       "    </tr>\n",
       "    <tr>\n",
       "      <th>1</th>\n",
       "      <td>6019349</td>\n",
       "      <td>442094451_91531546617</td>\n",
       "      <td>154620534_35331068705_522317</td>\n",
       "      <td>confirm</td>\n",
       "      <td>2017-06-01 11:59:27</td>\n",
       "    </tr>\n",
       "    <tr>\n",
       "      <th>2</th>\n",
       "      <td>6019349</td>\n",
       "      <td>442094451_91531546617</td>\n",
       "      <td>154620534_35331068705_522317</td>\n",
       "      <td>step_3</td>\n",
       "      <td>2017-06-01 11:58:48</td>\n",
       "    </tr>\n",
       "    <tr>\n",
       "      <th>3</th>\n",
       "      <td>6019349</td>\n",
       "      <td>442094451_91531546617</td>\n",
       "      <td>154620534_35331068705_522317</td>\n",
       "      <td>step_2</td>\n",
       "      <td>2017-06-01 11:58:08</td>\n",
       "    </tr>\n",
       "    <tr>\n",
       "      <th>4</th>\n",
       "      <td>6019349</td>\n",
       "      <td>442094451_91531546617</td>\n",
       "      <td>154620534_35331068705_522317</td>\n",
       "      <td>step_1</td>\n",
       "      <td>2017-06-01 11:57:58</td>\n",
       "    </tr>\n",
       "  </tbody>\n",
       "</table>\n",
       "</div>"
      ],
      "text/plain": [
       "   client_id             visitor_id                      visit_id  \\\n",
       "0     763412  601952081_10457207388  397475557_40440946728_419634   \n",
       "1    6019349  442094451_91531546617  154620534_35331068705_522317   \n",
       "2    6019349  442094451_91531546617  154620534_35331068705_522317   \n",
       "3    6019349  442094451_91531546617  154620534_35331068705_522317   \n",
       "4    6019349  442094451_91531546617  154620534_35331068705_522317   \n",
       "\n",
       "  process_step           date_time  \n",
       "0      confirm 2017-06-06 08:56:00  \n",
       "1      confirm 2017-06-01 11:59:27  \n",
       "2       step_3 2017-06-01 11:58:48  \n",
       "3       step_2 2017-06-01 11:58:08  \n",
       "4       step_1 2017-06-01 11:57:58  "
      ]
     },
     "execution_count": 92,
     "metadata": {},
     "output_type": "execute_result"
    }
   ],
   "source": [
    "web2=pd.read_excel('/Users/ashishtomar/Documents/Applications/Vanguard/Case Study/Case Study/df_final_web_data_pt_2.xlsx')\n",
    "web2.head()"
   ]
  },
  {
   "cell_type": "code",
   "execution_count": 93,
   "metadata": {},
   "outputs": [
    {
     "name": "stdout",
     "output_type": "stream",
     "text": [
      "<class 'pandas.core.frame.DataFrame'>\n",
      "RangeIndex: 343141 entries, 0 to 343140\n",
      "Data columns (total 5 columns):\n",
      " #   Column        Non-Null Count   Dtype         \n",
      "---  ------        --------------   -----         \n",
      " 0   client_id     343141 non-null  int64         \n",
      " 1   visitor_id    343141 non-null  object        \n",
      " 2   visit_id      343141 non-null  object        \n",
      " 3   process_step  343141 non-null  object        \n",
      " 4   date_time     343141 non-null  datetime64[ns]\n",
      "dtypes: datetime64[ns](1), int64(1), object(3)\n",
      "memory usage: 13.1+ MB\n"
     ]
    }
   ],
   "source": [
    "web1.info()"
   ]
  },
  {
   "cell_type": "code",
   "execution_count": 94,
   "metadata": {},
   "outputs": [
    {
     "data": {
      "text/plain": [
       "client_id       0\n",
       "visitor_id      0\n",
       "visit_id        0\n",
       "process_step    0\n",
       "date_time       0\n",
       "dtype: int64"
      ]
     },
     "execution_count": 94,
     "metadata": {},
     "output_type": "execute_result"
    }
   ],
   "source": [
    "web1.isnull().sum()"
   ]
  },
  {
   "cell_type": "code",
   "execution_count": 95,
   "metadata": {},
   "outputs": [
    {
     "name": "stdout",
     "output_type": "stream",
     "text": [
      "<class 'pandas.core.frame.DataFrame'>\n",
      "RangeIndex: 412264 entries, 0 to 412263\n",
      "Data columns (total 5 columns):\n",
      " #   Column        Non-Null Count   Dtype         \n",
      "---  ------        --------------   -----         \n",
      " 0   client_id     412264 non-null  int64         \n",
      " 1   visitor_id    412264 non-null  object        \n",
      " 2   visit_id      412264 non-null  object        \n",
      " 3   process_step  412264 non-null  object        \n",
      " 4   date_time     412264 non-null  datetime64[ns]\n",
      "dtypes: datetime64[ns](1), int64(1), object(3)\n",
      "memory usage: 15.7+ MB\n"
     ]
    }
   ],
   "source": [
    "web2.info()"
   ]
  },
  {
   "cell_type": "code",
   "execution_count": 96,
   "metadata": {},
   "outputs": [
    {
     "data": {
      "text/plain": [
       "client_id       0\n",
       "visitor_id      0\n",
       "visit_id        0\n",
       "process_step    0\n",
       "date_time       0\n",
       "dtype: int64"
      ]
     },
     "execution_count": 96,
     "metadata": {},
     "output_type": "execute_result"
    }
   ],
   "source": [
    "web2.isnull().sum()"
   ]
  },
  {
   "cell_type": "code",
   "execution_count": 97,
   "metadata": {},
   "outputs": [
    {
     "data": {
      "text/html": [
       "<div>\n",
       "<style scoped>\n",
       "    .dataframe tbody tr th:only-of-type {\n",
       "        vertical-align: middle;\n",
       "    }\n",
       "\n",
       "    .dataframe tbody tr th {\n",
       "        vertical-align: top;\n",
       "    }\n",
       "\n",
       "    .dataframe thead th {\n",
       "        text-align: right;\n",
       "    }\n",
       "</style>\n",
       "<table border=\"1\" class=\"dataframe\">\n",
       "  <thead>\n",
       "    <tr style=\"text-align: right;\">\n",
       "      <th></th>\n",
       "      <th>client_id</th>\n",
       "      <th>Variation</th>\n",
       "    </tr>\n",
       "  </thead>\n",
       "  <tbody>\n",
       "    <tr>\n",
       "      <th>0</th>\n",
       "      <td>9988021</td>\n",
       "      <td>Test</td>\n",
       "    </tr>\n",
       "    <tr>\n",
       "      <th>1</th>\n",
       "      <td>8320017</td>\n",
       "      <td>Test</td>\n",
       "    </tr>\n",
       "    <tr>\n",
       "      <th>2</th>\n",
       "      <td>4033851</td>\n",
       "      <td>Control</td>\n",
       "    </tr>\n",
       "    <tr>\n",
       "      <th>3</th>\n",
       "      <td>1982004</td>\n",
       "      <td>Test</td>\n",
       "    </tr>\n",
       "    <tr>\n",
       "      <th>4</th>\n",
       "      <td>9294070</td>\n",
       "      <td>Control</td>\n",
       "    </tr>\n",
       "  </tbody>\n",
       "</table>\n",
       "</div>"
      ],
      "text/plain": [
       "   client_id Variation\n",
       "0    9988021      Test\n",
       "1    8320017      Test\n",
       "2    4033851   Control\n",
       "3    1982004      Test\n",
       "4    9294070   Control"
      ]
     },
     "execution_count": 97,
     "metadata": {},
     "output_type": "execute_result"
    }
   ],
   "source": [
    "exp=pd.read_excel('/Users/ashishtomar/Documents/Applications/Vanguard/Case Study/Case Study/df_final_experiment_clients.xlsx')\n",
    "exp.head()"
   ]
  },
  {
   "cell_type": "code",
   "execution_count": 98,
   "metadata": {},
   "outputs": [
    {
     "name": "stdout",
     "output_type": "stream",
     "text": [
      "<class 'pandas.core.frame.DataFrame'>\n",
      "RangeIndex: 70609 entries, 0 to 70608\n",
      "Data columns (total 2 columns):\n",
      " #   Column     Non-Null Count  Dtype \n",
      "---  ------     --------------  ----- \n",
      " 0   client_id  70609 non-null  int64 \n",
      " 1   Variation  50500 non-null  object\n",
      "dtypes: int64(1), object(1)\n",
      "memory usage: 1.1+ MB\n"
     ]
    }
   ],
   "source": [
    "exp.info()"
   ]
  },
  {
   "cell_type": "code",
   "execution_count": 99,
   "metadata": {},
   "outputs": [
    {
     "data": {
      "text/plain": [
       "client_id        0\n",
       "Variation    20109\n",
       "dtype: int64"
      ]
     },
     "execution_count": 99,
     "metadata": {},
     "output_type": "execute_result"
    }
   ],
   "source": [
    "exp.isnull().sum()"
   ]
  },
  {
   "cell_type": "code",
   "execution_count": 100,
   "metadata": {},
   "outputs": [],
   "source": [
    "# Create a list of the files in order of appending\n",
    "# Merge all the dataframes in df_comb\n",
    "df_comb = [web1,web2]\n",
    "\n",
    "# Pandas will automatically append based on similar column names\n",
    "web = pd.concat(df_comb)\n",
    "\n",
    "# Write the appended dataframe to an excel file\n",
    "# Add index=False parameter to not include row numbers\n",
    "web.to_excel(\"/Users/ashishtomar/Documents/Applications/Vanguard/Case Study/Case Study/WebActivity_combined.xlsx\", index=False)"
   ]
  },
  {
   "cell_type": "code",
   "execution_count": 101,
   "metadata": {},
   "outputs": [
    {
     "name": "stdout",
     "output_type": "stream",
     "text": [
      "<class 'pandas.core.frame.DataFrame'>\n",
      "Int64Index: 755405 entries, 0 to 412263\n",
      "Data columns (total 5 columns):\n",
      " #   Column        Non-Null Count   Dtype         \n",
      "---  ------        --------------   -----         \n",
      " 0   client_id     755405 non-null  int64         \n",
      " 1   visitor_id    755405 non-null  object        \n",
      " 2   visit_id      755405 non-null  object        \n",
      " 3   process_step  755405 non-null  object        \n",
      " 4   date_time     755405 non-null  datetime64[ns]\n",
      "dtypes: datetime64[ns](1), int64(1), object(3)\n",
      "memory usage: 34.6+ MB\n"
     ]
    }
   ],
   "source": [
    "web.info()"
   ]
  },
  {
   "cell_type": "code",
   "execution_count": 102,
   "metadata": {},
   "outputs": [],
   "source": [
    "# Inner Join between web activity data and group classification data\n",
    "web_exp = web.merge(exp, how=\"inner\", on=\"client_id\")\n",
    "web_exp.to_excel(\"/Users/ashishtomar/Documents/Applications/Vanguard/Case Study/Case Study/WebActivity_Experiment.xlsx\", index=False)"
   ]
  },
  {
   "cell_type": "code",
   "execution_count": 103,
   "metadata": {},
   "outputs": [
    {
     "name": "stdout",
     "output_type": "stream",
     "text": [
      "<class 'pandas.core.frame.DataFrame'>\n",
      "Int64Index: 449831 entries, 0 to 449830\n",
      "Data columns (total 6 columns):\n",
      " #   Column        Non-Null Count   Dtype         \n",
      "---  ------        --------------   -----         \n",
      " 0   client_id     449831 non-null  int64         \n",
      " 1   visitor_id    449831 non-null  object        \n",
      " 2   visit_id      449831 non-null  object        \n",
      " 3   process_step  449831 non-null  object        \n",
      " 4   date_time     449831 non-null  datetime64[ns]\n",
      " 5   Variation     321309 non-null  object        \n",
      "dtypes: datetime64[ns](1), int64(1), object(4)\n",
      "memory usage: 24.0+ MB\n"
     ]
    }
   ],
   "source": [
    "web_exp.info()"
   ]
  },
  {
   "cell_type": "code",
   "execution_count": 104,
   "metadata": {},
   "outputs": [
    {
     "data": {
      "text/plain": [
       "client_id            0\n",
       "visitor_id           0\n",
       "visit_id             0\n",
       "process_step         0\n",
       "date_time            0\n",
       "Variation       128522\n",
       "dtype: int64"
      ]
     },
     "execution_count": 104,
     "metadata": {},
     "output_type": "execute_result"
    }
   ],
   "source": [
    "web_exp.isnull().sum()"
   ]
  },
  {
   "cell_type": "code",
   "execution_count": 105,
   "metadata": {},
   "outputs": [
    {
     "data": {
      "text/html": [
       "<div>\n",
       "<style scoped>\n",
       "    .dataframe tbody tr th:only-of-type {\n",
       "        vertical-align: middle;\n",
       "    }\n",
       "\n",
       "    .dataframe tbody tr th {\n",
       "        vertical-align: top;\n",
       "    }\n",
       "\n",
       "    .dataframe thead th {\n",
       "        text-align: right;\n",
       "    }\n",
       "</style>\n",
       "<table border=\"1\" class=\"dataframe\">\n",
       "  <thead>\n",
       "    <tr style=\"text-align: right;\">\n",
       "      <th></th>\n",
       "      <th>client_id</th>\n",
       "      <th>visitor_id</th>\n",
       "      <th>visit_id</th>\n",
       "      <th>process_step</th>\n",
       "      <th>date_time</th>\n",
       "      <th>Variation</th>\n",
       "    </tr>\n",
       "  </thead>\n",
       "  <tbody>\n",
       "    <tr>\n",
       "      <th>0</th>\n",
       "      <td>9988021</td>\n",
       "      <td>580560515_7732621733</td>\n",
       "      <td>781255054_21935453173_531117</td>\n",
       "      <td>step_3</td>\n",
       "      <td>2017-04-17 15:27:07</td>\n",
       "      <td>Test</td>\n",
       "    </tr>\n",
       "    <tr>\n",
       "      <th>1</th>\n",
       "      <td>9988021</td>\n",
       "      <td>580560515_7732621733</td>\n",
       "      <td>781255054_21935453173_531117</td>\n",
       "      <td>step_2</td>\n",
       "      <td>2017-04-17 15:26:51</td>\n",
       "      <td>Test</td>\n",
       "    </tr>\n",
       "    <tr>\n",
       "      <th>2</th>\n",
       "      <td>9988021</td>\n",
       "      <td>580560515_7732621733</td>\n",
       "      <td>781255054_21935453173_531117</td>\n",
       "      <td>step_3</td>\n",
       "      <td>2017-04-17 15:19:22</td>\n",
       "      <td>Test</td>\n",
       "    </tr>\n",
       "    <tr>\n",
       "      <th>3</th>\n",
       "      <td>9988021</td>\n",
       "      <td>580560515_7732621733</td>\n",
       "      <td>781255054_21935453173_531117</td>\n",
       "      <td>step_2</td>\n",
       "      <td>2017-04-17 15:19:13</td>\n",
       "      <td>Test</td>\n",
       "    </tr>\n",
       "    <tr>\n",
       "      <th>4</th>\n",
       "      <td>9988021</td>\n",
       "      <td>580560515_7732621733</td>\n",
       "      <td>781255054_21935453173_531117</td>\n",
       "      <td>step_3</td>\n",
       "      <td>2017-04-17 15:18:04</td>\n",
       "      <td>Test</td>\n",
       "    </tr>\n",
       "  </tbody>\n",
       "</table>\n",
       "</div>"
      ],
      "text/plain": [
       "   client_id            visitor_id                      visit_id process_step  \\\n",
       "0    9988021  580560515_7732621733  781255054_21935453173_531117       step_3   \n",
       "1    9988021  580560515_7732621733  781255054_21935453173_531117       step_2   \n",
       "2    9988021  580560515_7732621733  781255054_21935453173_531117       step_3   \n",
       "3    9988021  580560515_7732621733  781255054_21935453173_531117       step_2   \n",
       "4    9988021  580560515_7732621733  781255054_21935453173_531117       step_3   \n",
       "\n",
       "            date_time Variation  \n",
       "0 2017-04-17 15:27:07      Test  \n",
       "1 2017-04-17 15:26:51      Test  \n",
       "2 2017-04-17 15:19:22      Test  \n",
       "3 2017-04-17 15:19:13      Test  \n",
       "4 2017-04-17 15:18:04      Test  "
      ]
     },
     "execution_count": 105,
     "metadata": {},
     "output_type": "execute_result"
    }
   ],
   "source": [
    "web_exp.head()"
   ]
  },
  {
   "cell_type": "code",
   "execution_count": 106,
   "metadata": {},
   "outputs": [
    {
     "name": "stdout",
     "output_type": "stream",
     "text": [
      "<class 'pandas.core.frame.DataFrame'>\n",
      "Int64Index: 321309 entries, 0 to 426313\n",
      "Data columns (total 6 columns):\n",
      " #   Column        Non-Null Count   Dtype         \n",
      "---  ------        --------------   -----         \n",
      " 0   client_id     321309 non-null  int64         \n",
      " 1   visitor_id    321309 non-null  object        \n",
      " 2   visit_id      321309 non-null  object        \n",
      " 3   process_step  321309 non-null  object        \n",
      " 4   date_time     321309 non-null  datetime64[ns]\n",
      " 5   Variation     321309 non-null  object        \n",
      "dtypes: datetime64[ns](1), int64(1), object(4)\n",
      "memory usage: 17.2+ MB\n"
     ]
    }
   ],
   "source": [
    "#Dropping the rows having null values\n",
    "web_exp2=web_exp.dropna(how='any')\n",
    "web_exp2.info()"
   ]
  },
  {
   "cell_type": "code",
   "execution_count": 107,
   "metadata": {},
   "outputs": [
    {
     "name": "stdout",
     "output_type": "stream",
     "text": [
      "<class 'pandas.core.frame.DataFrame'>\n",
      "Int64Index: 321195 entries, 0 to 321194\n",
      "Data columns (total 14 columns):\n",
      " #   Column            Non-Null Count   Dtype         \n",
      "---  ------            --------------   -----         \n",
      " 0   client_id         321195 non-null  int64         \n",
      " 1   visitor_id        321195 non-null  object        \n",
      " 2   visit_id          321195 non-null  object        \n",
      " 3   process_step      321195 non-null  object        \n",
      " 4   date_time         321195 non-null  datetime64[ns]\n",
      " 5   Variation         321195 non-null  object        \n",
      " 6   clnt_tenure_yr    321195 non-null  float64       \n",
      " 7   clnt_tenure_mnth  321195 non-null  float64       \n",
      " 8   clnt_age          321195 non-null  float64       \n",
      " 9   gendr             321195 non-null  object        \n",
      " 10  num_accts         321195 non-null  float64       \n",
      " 11  bal               321195 non-null  float64       \n",
      " 12  calls_6_mnth      321195 non-null  float64       \n",
      " 13  logons_6_mnth     321195 non-null  float64       \n",
      "dtypes: datetime64[ns](1), float64(7), int64(1), object(5)\n",
      "memory usage: 36.8+ MB\n"
     ]
    }
   ],
   "source": [
    "#Inner join between the combined dataset and demographic data\n",
    "df = web_exp2.merge(demo, how=\"inner\", on=\"client_id\")\n",
    "df.info()"
   ]
  },
  {
   "cell_type": "code",
   "execution_count": 108,
   "metadata": {},
   "outputs": [],
   "source": [
    "#Sorting the data by visit_ids and date_time\n",
    "df=df.sort_values(['visit_id','date_time'],ascending=True)"
   ]
  },
  {
   "cell_type": "code",
   "execution_count": 109,
   "metadata": {},
   "outputs": [],
   "source": [
    "#Saving the prepared dataset\n",
    "df.to_excel(\"/Users/ashishtomar/Documents/Applications/Vanguard/Case Study/Case Study/Final_dataset.xlsx\", index=False)"
   ]
  },
  {
   "cell_type": "code",
   "execution_count": 110,
   "metadata": {},
   "outputs": [
    {
     "data": {
      "text/plain": [
       "Test       177787\n",
       "Control    143408\n",
       "Name: Variation, dtype: int64"
      ]
     },
     "execution_count": 110,
     "metadata": {},
     "output_type": "execute_result"
    }
   ],
   "source": [
    "df[\"Variation\"].value_counts()"
   ]
  },
  {
   "cell_type": "markdown",
   "metadata": {},
   "source": [
    "## EXPERIMENTAL DESIGN CHECK (for randomization)"
   ]
  },
  {
   "cell_type": "code",
   "execution_count": 111,
   "metadata": {},
   "outputs": [
    {
     "data": {
      "text/html": [
       "<div>\n",
       "<style scoped>\n",
       "    .dataframe tbody tr th:only-of-type {\n",
       "        vertical-align: middle;\n",
       "    }\n",
       "\n",
       "    .dataframe tbody tr th {\n",
       "        vertical-align: top;\n",
       "    }\n",
       "\n",
       "    .dataframe thead th {\n",
       "        text-align: right;\n",
       "    }\n",
       "</style>\n",
       "<table border=\"1\" class=\"dataframe\">\n",
       "  <thead>\n",
       "    <tr style=\"text-align: right;\">\n",
       "      <th></th>\n",
       "      <th>client_id</th>\n",
       "      <th>clnt_tenure_yr</th>\n",
       "      <th>clnt_tenure_mnth</th>\n",
       "      <th>clnt_age</th>\n",
       "      <th>num_accts</th>\n",
       "      <th>bal</th>\n",
       "      <th>calls_6_mnth</th>\n",
       "      <th>logons_6_mnth</th>\n",
       "    </tr>\n",
       "    <tr>\n",
       "      <th>Variation</th>\n",
       "      <th></th>\n",
       "      <th></th>\n",
       "      <th></th>\n",
       "      <th></th>\n",
       "      <th></th>\n",
       "      <th></th>\n",
       "      <th></th>\n",
       "      <th></th>\n",
       "    </tr>\n",
       "  </thead>\n",
       "  <tbody>\n",
       "    <tr>\n",
       "      <th>Control</th>\n",
       "      <td>5.014431e+06</td>\n",
       "      <td>12.172152</td>\n",
       "      <td>152.052194</td>\n",
       "      <td>48.309896</td>\n",
       "      <td>2.274022</td>\n",
       "      <td>159408.416536</td>\n",
       "      <td>3.275814</td>\n",
       "      <td>6.311621</td>\n",
       "    </tr>\n",
       "    <tr>\n",
       "      <th>Test</th>\n",
       "      <td>5.006003e+06</td>\n",
       "      <td>12.180058</td>\n",
       "      <td>152.201466</td>\n",
       "      <td>48.750018</td>\n",
       "      <td>2.254040</td>\n",
       "      <td>164477.426879</td>\n",
       "      <td>3.205392</td>\n",
       "      <td>6.245609</td>\n",
       "    </tr>\n",
       "  </tbody>\n",
       "</table>\n",
       "</div>"
      ],
      "text/plain": [
       "              client_id  clnt_tenure_yr  clnt_tenure_mnth   clnt_age  \\\n",
       "Variation                                                              \n",
       "Control    5.014431e+06       12.172152        152.052194  48.309896   \n",
       "Test       5.006003e+06       12.180058        152.201466  48.750018   \n",
       "\n",
       "           num_accts            bal  calls_6_mnth  logons_6_mnth  \n",
       "Variation                                                         \n",
       "Control     2.274022  159408.416536      3.275814       6.311621  \n",
       "Test        2.254040  164477.426879      3.205392       6.245609  "
      ]
     },
     "execution_count": 111,
     "metadata": {},
     "output_type": "execute_result"
    }
   ],
   "source": [
    "df.groupby(['Variation']).mean()"
   ]
  },
  {
   "cell_type": "code",
   "execution_count": 134,
   "metadata": {},
   "outputs": [],
   "source": [
    "#Splitting the data into control group and test group\n",
    "c1=df[df[\"Variation\"]=='Control']\n",
    "t1=df[df[\"Variation\"]=='Test']"
   ]
  },
  {
   "cell_type": "code",
   "execution_count": 135,
   "metadata": {},
   "outputs": [],
   "source": [
    "#Extracting the demogaphic data into series for Z-test\n",
    "c1_age=c1['clnt_age']\n",
    "c1_tenure=c1['clnt_tenure_mnth']\n",
    "c1_num_accts=c1['num_accts']\n",
    "c1_bal=c1['bal']\n",
    "c1_calls=c1['calls_6_mnth']\n",
    "c1_logons=c1['logons_6_mnth']\n",
    "t1_age=t1['clnt_age']\n",
    "t1_tenure=t1['clnt_tenure_mnth']\n",
    "t1_num_accts=t1['num_accts']\n",
    "t1_bal=t1['bal']\n",
    "t1_calls=t1['calls_6_mnth']\n",
    "t1_logons=t1['logons_6_mnth']"
   ]
  },
  {
   "cell_type": "code",
   "execution_count": 114,
   "metadata": {},
   "outputs": [],
   "source": [
    "#to display all rows mentioned in head()\n",
    "pd.set_option('display.max_rows',500)"
   ]
  },
  {
   "cell_type": "markdown",
   "metadata": {},
   "source": [
    "### Statistical Test on Demographics"
   ]
  },
  {
   "cell_type": "markdown",
   "metadata": {},
   "source": [
    "### a) Age"
   ]
  },
  {
   "cell_type": "code",
   "execution_count": 136,
   "metadata": {},
   "outputs": [
    {
     "name": "stdout",
     "output_type": "stream",
     "text": [
      "Z-statistic for client age: -7.926400435419628\n",
      "p-value: 2.255893539888405e-15\n"
     ]
    }
   ],
   "source": [
    "#Two-tailed Z-test for Age\n",
    "ztest ,pval = stests.ztest(c1_age,t1_age,value=0, alternative='two-sided')\n",
    "print(\"Z-statistic for client age:\", ztest)\n",
    "print(\"p-value:\", pval)"
   ]
  },
  {
   "cell_type": "markdown",
   "metadata": {},
   "source": [
    "### b) Tenure"
   ]
  },
  {
   "cell_type": "code",
   "execution_count": 137,
   "metadata": {
    "scrolled": true
   },
   "outputs": [
    {
     "name": "stdout",
     "output_type": "stream",
     "text": [
      "Z-statistic for client tenure: -0.5054199559952703\n",
      "p-value: 0.6132639053956633\n"
     ]
    }
   ],
   "source": [
    "#Two-tailed Z-test for Tenure\n",
    "ztest ,pval = stests.ztest(c1_tenure,t1_tenure,value=0, alternative='two-sided')\n",
    "print(\"Z-statistic for client tenure:\", ztest)\n",
    "print(\"p-value:\", pval)"
   ]
  },
  {
   "cell_type": "markdown",
   "metadata": {},
   "source": [
    "### c) Number of Accounts"
   ]
  },
  {
   "cell_type": "code",
   "execution_count": 138,
   "metadata": {},
   "outputs": [
    {
     "name": "stdout",
     "output_type": "stream",
     "text": [
      "Z-statistic for number of accounts: 10.397898754069145\n",
      "p-value: 2.534606481125466e-25\n"
     ]
    }
   ],
   "source": [
    "#Two-tailed Z-test for Number of Accounts\n",
    "ztest ,pval = stests.ztest(c1_num_accts,t1_num_accts,value=0, alternative='two-sided')\n",
    "print(\"Z-statistic for number of accounts:\", ztest)\n",
    "print(\"p-value:\", pval)"
   ]
  },
  {
   "cell_type": "markdown",
   "metadata": {},
   "source": [
    "### d) Balance"
   ]
  },
  {
   "cell_type": "code",
   "execution_count": 139,
   "metadata": {},
   "outputs": [
    {
     "name": "stdout",
     "output_type": "stream",
     "text": [
      "Z-statistic for balance: -4.0866430148046\n",
      "p-value: 4.376597446309564e-05\n"
     ]
    }
   ],
   "source": [
    "#Two-tailed Z-test for Balance\n",
    "ztest ,pval = stests.ztest(c1_bal,t1_bal,value=0, alternative='two-sided')\n",
    "print(\"Z-statistic for balance:\", ztest)\n",
    "print(\"p-value:\", pval)"
   ]
  },
  {
   "cell_type": "markdown",
   "metadata": {},
   "source": [
    "### e) Number of calls"
   ]
  },
  {
   "cell_type": "code",
   "execution_count": 140,
   "metadata": {},
   "outputs": [
    {
     "name": "stdout",
     "output_type": "stream",
     "text": [
      "Z-statistic for number of calls: 9.045734571879295\n",
      "p-value: 1.4866222621367004e-19\n"
     ]
    }
   ],
   "source": [
    "#Two-tailed Z-test for Number of calls\n",
    "ztest ,pval = stests.ztest(c1_calls,t1_calls,value=0, alternative='two-sided')\n",
    "print(\"Z-statistic for number of calls:\", ztest)\n",
    "print(\"p-value:\", pval)"
   ]
  },
  {
   "cell_type": "markdown",
   "metadata": {},
   "source": [
    "### f) Number of logons"
   ]
  },
  {
   "cell_type": "code",
   "execution_count": 141,
   "metadata": {},
   "outputs": [
    {
     "name": "stdout",
     "output_type": "stream",
     "text": [
      "Z-statistic for number of logons: 8.533386925260755\n",
      "p-value: 1.4212435967967977e-17\n"
     ]
    }
   ],
   "source": [
    "#Two-tailed Z-test for Number of logons\n",
    "ztest ,pval = stests.ztest(c1_logons,t1_logons,value=0, alternative='two-sided')\n",
    "print(\"Z-statistic for number of logons:\", ztest)\n",
    "print(\"p-value:\", pval)"
   ]
  },
  {
   "cell_type": "markdown",
   "metadata": {},
   "source": [
    "### g) Gender"
   ]
  },
  {
   "cell_type": "code",
   "execution_count": 121,
   "metadata": {},
   "outputs": [
    {
     "data": {
      "text/plain": [
       "U    49360\n",
       "M    48323\n",
       "F    45725\n",
       "Name: gendr, dtype: int64"
      ]
     },
     "execution_count": 121,
     "metadata": {},
     "output_type": "execute_result"
    }
   ],
   "source": [
    "c1[\"gendr\"].value_counts()"
   ]
  },
  {
   "cell_type": "code",
   "execution_count": 142,
   "metadata": {},
   "outputs": [
    {
     "data": {
      "text/plain": [
       "M    59690\n",
       "U    59524\n",
       "F    58565\n",
       "X        8\n",
       "Name: gendr, dtype: int64"
      ]
     },
     "execution_count": 142,
     "metadata": {},
     "output_type": "execute_result"
    }
   ],
   "source": [
    "t1[\"gendr\"].value_counts()"
   ]
  },
  {
   "cell_type": "code",
   "execution_count": 143,
   "metadata": {},
   "outputs": [
    {
     "name": "stdout",
     "output_type": "stream",
     "text": [
      "Z-statistic for gender: 0.7292530033983262\n",
      "p-value: 0.4658469143504317\n"
     ]
    }
   ],
   "source": [
    "#Two-tailed Proportions Z-test for Gender\n",
    "males_num=np.array([48323,59690])\n",
    "total_num=np.array([143408,177787])\n",
    "(test_stat, p_value)=proportions_ztest(males_num,total_num, alternative='two-sided')\n",
    "print(\"Z-statistic for gender:\", test_stat)\n",
    "print(\"p-value:\", p_value)"
   ]
  },
  {
   "cell_type": "markdown",
   "metadata": {},
   "source": [
    "## SUCCESS METRICS FORMULATION"
   ]
  },
  {
   "cell_type": "markdown",
   "metadata": {},
   "source": [
    "### Step flags"
   ]
  },
  {
   "cell_type": "code",
   "execution_count": 124,
   "metadata": {},
   "outputs": [],
   "source": [
    "#Adding flags for all the process steps\n",
    "df['flag_start'] = np.where(df['process_step']=='start', 1, 0)\n",
    "df['flag_step1'] = np.where(df['process_step']=='step_1', 1, 0)\n",
    "df['flag_step2'] = np.where(df['process_step']=='step_2', 1, 0)\n",
    "df['flag_step3'] = np.where(df['process_step']=='step_3', 1, 0)\n",
    "df['flag_confirm'] = np.where(df['process_step']=='confirm', 1, 0)"
   ]
  },
  {
   "cell_type": "code",
   "execution_count": 125,
   "metadata": {
    "scrolled": true
   },
   "outputs": [
    {
     "data": {
      "text/html": [
       "<div>\n",
       "<style scoped>\n",
       "    .dataframe tbody tr th:only-of-type {\n",
       "        vertical-align: middle;\n",
       "    }\n",
       "\n",
       "    .dataframe tbody tr th {\n",
       "        vertical-align: top;\n",
       "    }\n",
       "\n",
       "    .dataframe thead th {\n",
       "        text-align: right;\n",
       "    }\n",
       "</style>\n",
       "<table border=\"1\" class=\"dataframe\">\n",
       "  <thead>\n",
       "    <tr style=\"text-align: right;\">\n",
       "      <th></th>\n",
       "      <th>client_id</th>\n",
       "      <th>visitor_id</th>\n",
       "      <th>visit_id</th>\n",
       "      <th>process_step</th>\n",
       "      <th>date_time</th>\n",
       "      <th>Variation</th>\n",
       "      <th>clnt_tenure_yr</th>\n",
       "      <th>clnt_tenure_mnth</th>\n",
       "      <th>clnt_age</th>\n",
       "      <th>gendr</th>\n",
       "      <th>num_accts</th>\n",
       "      <th>bal</th>\n",
       "      <th>calls_6_mnth</th>\n",
       "      <th>logons_6_mnth</th>\n",
       "      <th>flag_start</th>\n",
       "      <th>flag_step1</th>\n",
       "      <th>flag_step2</th>\n",
       "      <th>flag_step3</th>\n",
       "      <th>flag_confirm</th>\n",
       "    </tr>\n",
       "  </thead>\n",
       "  <tbody>\n",
       "    <tr>\n",
       "      <th>116328</th>\n",
       "      <td>3561384</td>\n",
       "      <td>451664975_1722933822</td>\n",
       "      <td>100012776_37918976071_457913</td>\n",
       "      <td>confirm</td>\n",
       "      <td>2017-04-26 13:22:17</td>\n",
       "      <td>Test</td>\n",
       "      <td>4.0</td>\n",
       "      <td>56.0</td>\n",
       "      <td>59.5</td>\n",
       "      <td>U</td>\n",
       "      <td>2.0</td>\n",
       "      <td>63130.44</td>\n",
       "      <td>6.0</td>\n",
       "      <td>9.0</td>\n",
       "      <td>0</td>\n",
       "      <td>0</td>\n",
       "      <td>0</td>\n",
       "      <td>0</td>\n",
       "      <td>1</td>\n",
       "    </tr>\n",
       "    <tr>\n",
       "      <th>116327</th>\n",
       "      <td>3561384</td>\n",
       "      <td>451664975_1722933822</td>\n",
       "      <td>100012776_37918976071_457913</td>\n",
       "      <td>confirm</td>\n",
       "      <td>2017-04-26 13:23:09</td>\n",
       "      <td>Test</td>\n",
       "      <td>4.0</td>\n",
       "      <td>56.0</td>\n",
       "      <td>59.5</td>\n",
       "      <td>U</td>\n",
       "      <td>2.0</td>\n",
       "      <td>63130.44</td>\n",
       "      <td>6.0</td>\n",
       "      <td>9.0</td>\n",
       "      <td>0</td>\n",
       "      <td>0</td>\n",
       "      <td>0</td>\n",
       "      <td>0</td>\n",
       "      <td>1</td>\n",
       "    </tr>\n",
       "    <tr>\n",
       "      <th>256722</th>\n",
       "      <td>7338123</td>\n",
       "      <td>612065484_94198474375</td>\n",
       "      <td>100019538_17884295066_43909</td>\n",
       "      <td>start</td>\n",
       "      <td>2017-04-09 16:20:56</td>\n",
       "      <td>Test</td>\n",
       "      <td>7.0</td>\n",
       "      <td>88.0</td>\n",
       "      <td>23.5</td>\n",
       "      <td>M</td>\n",
       "      <td>2.0</td>\n",
       "      <td>26436.73</td>\n",
       "      <td>6.0</td>\n",
       "      <td>9.0</td>\n",
       "      <td>1</td>\n",
       "      <td>0</td>\n",
       "      <td>0</td>\n",
       "      <td>0</td>\n",
       "      <td>0</td>\n",
       "    </tr>\n",
       "    <tr>\n",
       "      <th>256721</th>\n",
       "      <td>7338123</td>\n",
       "      <td>612065484_94198474375</td>\n",
       "      <td>100019538_17884295066_43909</td>\n",
       "      <td>step_1</td>\n",
       "      <td>2017-04-09 16:21:12</td>\n",
       "      <td>Test</td>\n",
       "      <td>7.0</td>\n",
       "      <td>88.0</td>\n",
       "      <td>23.5</td>\n",
       "      <td>M</td>\n",
       "      <td>2.0</td>\n",
       "      <td>26436.73</td>\n",
       "      <td>6.0</td>\n",
       "      <td>9.0</td>\n",
       "      <td>0</td>\n",
       "      <td>1</td>\n",
       "      <td>0</td>\n",
       "      <td>0</td>\n",
       "      <td>0</td>\n",
       "    </tr>\n",
       "    <tr>\n",
       "      <th>256720</th>\n",
       "      <td>7338123</td>\n",
       "      <td>612065484_94198474375</td>\n",
       "      <td>100019538_17884295066_43909</td>\n",
       "      <td>step_2</td>\n",
       "      <td>2017-04-09 16:21:21</td>\n",
       "      <td>Test</td>\n",
       "      <td>7.0</td>\n",
       "      <td>88.0</td>\n",
       "      <td>23.5</td>\n",
       "      <td>M</td>\n",
       "      <td>2.0</td>\n",
       "      <td>26436.73</td>\n",
       "      <td>6.0</td>\n",
       "      <td>9.0</td>\n",
       "      <td>0</td>\n",
       "      <td>0</td>\n",
       "      <td>1</td>\n",
       "      <td>0</td>\n",
       "      <td>0</td>\n",
       "    </tr>\n",
       "  </tbody>\n",
       "</table>\n",
       "</div>"
      ],
      "text/plain": [
       "        client_id             visitor_id                      visit_id  \\\n",
       "116328    3561384   451664975_1722933822  100012776_37918976071_457913   \n",
       "116327    3561384   451664975_1722933822  100012776_37918976071_457913   \n",
       "256722    7338123  612065484_94198474375   100019538_17884295066_43909   \n",
       "256721    7338123  612065484_94198474375   100019538_17884295066_43909   \n",
       "256720    7338123  612065484_94198474375   100019538_17884295066_43909   \n",
       "\n",
       "       process_step           date_time Variation  clnt_tenure_yr  \\\n",
       "116328      confirm 2017-04-26 13:22:17      Test             4.0   \n",
       "116327      confirm 2017-04-26 13:23:09      Test             4.0   \n",
       "256722        start 2017-04-09 16:20:56      Test             7.0   \n",
       "256721       step_1 2017-04-09 16:21:12      Test             7.0   \n",
       "256720       step_2 2017-04-09 16:21:21      Test             7.0   \n",
       "\n",
       "        clnt_tenure_mnth  clnt_age gendr  num_accts       bal  calls_6_mnth  \\\n",
       "116328              56.0      59.5     U        2.0  63130.44           6.0   \n",
       "116327              56.0      59.5     U        2.0  63130.44           6.0   \n",
       "256722              88.0      23.5     M        2.0  26436.73           6.0   \n",
       "256721              88.0      23.5     M        2.0  26436.73           6.0   \n",
       "256720              88.0      23.5     M        2.0  26436.73           6.0   \n",
       "\n",
       "        logons_6_mnth  flag_start  flag_step1  flag_step2  flag_step3  \\\n",
       "116328            9.0           0           0           0           0   \n",
       "116327            9.0           0           0           0           0   \n",
       "256722            9.0           1           0           0           0   \n",
       "256721            9.0           0           1           0           0   \n",
       "256720            9.0           0           0           1           0   \n",
       "\n",
       "        flag_confirm  \n",
       "116328             1  \n",
       "116327             1  \n",
       "256722             0  \n",
       "256721             0  \n",
       "256720             0  "
      ]
     },
     "execution_count": 125,
     "metadata": {},
     "output_type": "execute_result"
    }
   ],
   "source": [
    "df.head()"
   ]
  },
  {
   "cell_type": "markdown",
   "metadata": {},
   "source": [
    "### Step transition flags"
   ]
  },
  {
   "cell_type": "code",
   "execution_count": 126,
   "metadata": {},
   "outputs": [],
   "source": [
    "#Adding a column to display the process step in the next row, within the same visit_id\n",
    "df['lead']=df.groupby('visit_id')['process_step'].shift(-1)"
   ]
  },
  {
   "cell_type": "code",
   "execution_count": 127,
   "metadata": {
    "scrolled": true
   },
   "outputs": [
    {
     "data": {
      "text/html": [
       "<div>\n",
       "<style scoped>\n",
       "    .dataframe tbody tr th:only-of-type {\n",
       "        vertical-align: middle;\n",
       "    }\n",
       "\n",
       "    .dataframe tbody tr th {\n",
       "        vertical-align: top;\n",
       "    }\n",
       "\n",
       "    .dataframe thead th {\n",
       "        text-align: right;\n",
       "    }\n",
       "</style>\n",
       "<table border=\"1\" class=\"dataframe\">\n",
       "  <thead>\n",
       "    <tr style=\"text-align: right;\">\n",
       "      <th></th>\n",
       "      <th>client_id</th>\n",
       "      <th>visitor_id</th>\n",
       "      <th>visit_id</th>\n",
       "      <th>process_step</th>\n",
       "      <th>date_time</th>\n",
       "      <th>Variation</th>\n",
       "      <th>clnt_tenure_yr</th>\n",
       "      <th>clnt_tenure_mnth</th>\n",
       "      <th>clnt_age</th>\n",
       "      <th>gendr</th>\n",
       "      <th>...</th>\n",
       "      <th>flag_start</th>\n",
       "      <th>flag_step1</th>\n",
       "      <th>flag_step2</th>\n",
       "      <th>flag_step3</th>\n",
       "      <th>flag_confirm</th>\n",
       "      <th>lead</th>\n",
       "      <th>flag_start-step1</th>\n",
       "      <th>flag_step1-step2</th>\n",
       "      <th>flag_step2-step3</th>\n",
       "      <th>flag_step3-confirm</th>\n",
       "    </tr>\n",
       "  </thead>\n",
       "  <tbody>\n",
       "    <tr>\n",
       "      <th>116328</th>\n",
       "      <td>3561384</td>\n",
       "      <td>451664975_1722933822</td>\n",
       "      <td>100012776_37918976071_457913</td>\n",
       "      <td>confirm</td>\n",
       "      <td>2017-04-26 13:22:17</td>\n",
       "      <td>Test</td>\n",
       "      <td>4.0</td>\n",
       "      <td>56.0</td>\n",
       "      <td>59.5</td>\n",
       "      <td>U</td>\n",
       "      <td>...</td>\n",
       "      <td>0</td>\n",
       "      <td>0</td>\n",
       "      <td>0</td>\n",
       "      <td>0</td>\n",
       "      <td>1</td>\n",
       "      <td>confirm</td>\n",
       "      <td>0</td>\n",
       "      <td>0</td>\n",
       "      <td>0</td>\n",
       "      <td>0</td>\n",
       "    </tr>\n",
       "    <tr>\n",
       "      <th>116327</th>\n",
       "      <td>3561384</td>\n",
       "      <td>451664975_1722933822</td>\n",
       "      <td>100012776_37918976071_457913</td>\n",
       "      <td>confirm</td>\n",
       "      <td>2017-04-26 13:23:09</td>\n",
       "      <td>Test</td>\n",
       "      <td>4.0</td>\n",
       "      <td>56.0</td>\n",
       "      <td>59.5</td>\n",
       "      <td>U</td>\n",
       "      <td>...</td>\n",
       "      <td>0</td>\n",
       "      <td>0</td>\n",
       "      <td>0</td>\n",
       "      <td>0</td>\n",
       "      <td>1</td>\n",
       "      <td>NaN</td>\n",
       "      <td>0</td>\n",
       "      <td>0</td>\n",
       "      <td>0</td>\n",
       "      <td>0</td>\n",
       "    </tr>\n",
       "    <tr>\n",
       "      <th>256722</th>\n",
       "      <td>7338123</td>\n",
       "      <td>612065484_94198474375</td>\n",
       "      <td>100019538_17884295066_43909</td>\n",
       "      <td>start</td>\n",
       "      <td>2017-04-09 16:20:56</td>\n",
       "      <td>Test</td>\n",
       "      <td>7.0</td>\n",
       "      <td>88.0</td>\n",
       "      <td>23.5</td>\n",
       "      <td>M</td>\n",
       "      <td>...</td>\n",
       "      <td>1</td>\n",
       "      <td>0</td>\n",
       "      <td>0</td>\n",
       "      <td>0</td>\n",
       "      <td>0</td>\n",
       "      <td>step_1</td>\n",
       "      <td>1</td>\n",
       "      <td>0</td>\n",
       "      <td>0</td>\n",
       "      <td>0</td>\n",
       "    </tr>\n",
       "    <tr>\n",
       "      <th>256721</th>\n",
       "      <td>7338123</td>\n",
       "      <td>612065484_94198474375</td>\n",
       "      <td>100019538_17884295066_43909</td>\n",
       "      <td>step_1</td>\n",
       "      <td>2017-04-09 16:21:12</td>\n",
       "      <td>Test</td>\n",
       "      <td>7.0</td>\n",
       "      <td>88.0</td>\n",
       "      <td>23.5</td>\n",
       "      <td>M</td>\n",
       "      <td>...</td>\n",
       "      <td>0</td>\n",
       "      <td>1</td>\n",
       "      <td>0</td>\n",
       "      <td>0</td>\n",
       "      <td>0</td>\n",
       "      <td>step_2</td>\n",
       "      <td>0</td>\n",
       "      <td>1</td>\n",
       "      <td>0</td>\n",
       "      <td>0</td>\n",
       "    </tr>\n",
       "    <tr>\n",
       "      <th>256720</th>\n",
       "      <td>7338123</td>\n",
       "      <td>612065484_94198474375</td>\n",
       "      <td>100019538_17884295066_43909</td>\n",
       "      <td>step_2</td>\n",
       "      <td>2017-04-09 16:21:21</td>\n",
       "      <td>Test</td>\n",
       "      <td>7.0</td>\n",
       "      <td>88.0</td>\n",
       "      <td>23.5</td>\n",
       "      <td>M</td>\n",
       "      <td>...</td>\n",
       "      <td>0</td>\n",
       "      <td>0</td>\n",
       "      <td>1</td>\n",
       "      <td>0</td>\n",
       "      <td>0</td>\n",
       "      <td>step_1</td>\n",
       "      <td>0</td>\n",
       "      <td>0</td>\n",
       "      <td>0</td>\n",
       "      <td>0</td>\n",
       "    </tr>\n",
       "    <tr>\n",
       "      <th>256719</th>\n",
       "      <td>7338123</td>\n",
       "      <td>612065484_94198474375</td>\n",
       "      <td>100019538_17884295066_43909</td>\n",
       "      <td>step_1</td>\n",
       "      <td>2017-04-09 16:21:35</td>\n",
       "      <td>Test</td>\n",
       "      <td>7.0</td>\n",
       "      <td>88.0</td>\n",
       "      <td>23.5</td>\n",
       "      <td>M</td>\n",
       "      <td>...</td>\n",
       "      <td>0</td>\n",
       "      <td>1</td>\n",
       "      <td>0</td>\n",
       "      <td>0</td>\n",
       "      <td>0</td>\n",
       "      <td>step_1</td>\n",
       "      <td>0</td>\n",
       "      <td>0</td>\n",
       "      <td>0</td>\n",
       "      <td>0</td>\n",
       "    </tr>\n",
       "    <tr>\n",
       "      <th>256718</th>\n",
       "      <td>7338123</td>\n",
       "      <td>612065484_94198474375</td>\n",
       "      <td>100019538_17884295066_43909</td>\n",
       "      <td>step_1</td>\n",
       "      <td>2017-04-09 16:21:41</td>\n",
       "      <td>Test</td>\n",
       "      <td>7.0</td>\n",
       "      <td>88.0</td>\n",
       "      <td>23.5</td>\n",
       "      <td>M</td>\n",
       "      <td>...</td>\n",
       "      <td>0</td>\n",
       "      <td>1</td>\n",
       "      <td>0</td>\n",
       "      <td>0</td>\n",
       "      <td>0</td>\n",
       "      <td>start</td>\n",
       "      <td>0</td>\n",
       "      <td>0</td>\n",
       "      <td>0</td>\n",
       "      <td>0</td>\n",
       "    </tr>\n",
       "    <tr>\n",
       "      <th>256717</th>\n",
       "      <td>7338123</td>\n",
       "      <td>612065484_94198474375</td>\n",
       "      <td>100019538_17884295066_43909</td>\n",
       "      <td>start</td>\n",
       "      <td>2017-04-09 16:21:45</td>\n",
       "      <td>Test</td>\n",
       "      <td>7.0</td>\n",
       "      <td>88.0</td>\n",
       "      <td>23.5</td>\n",
       "      <td>M</td>\n",
       "      <td>...</td>\n",
       "      <td>1</td>\n",
       "      <td>0</td>\n",
       "      <td>0</td>\n",
       "      <td>0</td>\n",
       "      <td>0</td>\n",
       "      <td>start</td>\n",
       "      <td>0</td>\n",
       "      <td>0</td>\n",
       "      <td>0</td>\n",
       "      <td>0</td>\n",
       "    </tr>\n",
       "    <tr>\n",
       "      <th>256716</th>\n",
       "      <td>7338123</td>\n",
       "      <td>612065484_94198474375</td>\n",
       "      <td>100019538_17884295066_43909</td>\n",
       "      <td>start</td>\n",
       "      <td>2017-04-09 16:21:59</td>\n",
       "      <td>Test</td>\n",
       "      <td>7.0</td>\n",
       "      <td>88.0</td>\n",
       "      <td>23.5</td>\n",
       "      <td>M</td>\n",
       "      <td>...</td>\n",
       "      <td>1</td>\n",
       "      <td>0</td>\n",
       "      <td>0</td>\n",
       "      <td>0</td>\n",
       "      <td>0</td>\n",
       "      <td>step_1</td>\n",
       "      <td>1</td>\n",
       "      <td>0</td>\n",
       "      <td>0</td>\n",
       "      <td>0</td>\n",
       "    </tr>\n",
       "    <tr>\n",
       "      <th>256715</th>\n",
       "      <td>7338123</td>\n",
       "      <td>612065484_94198474375</td>\n",
       "      <td>100019538_17884295066_43909</td>\n",
       "      <td>step_1</td>\n",
       "      <td>2017-04-09 16:22:04</td>\n",
       "      <td>Test</td>\n",
       "      <td>7.0</td>\n",
       "      <td>88.0</td>\n",
       "      <td>23.5</td>\n",
       "      <td>M</td>\n",
       "      <td>...</td>\n",
       "      <td>0</td>\n",
       "      <td>1</td>\n",
       "      <td>0</td>\n",
       "      <td>0</td>\n",
       "      <td>0</td>\n",
       "      <td>step_2</td>\n",
       "      <td>0</td>\n",
       "      <td>1</td>\n",
       "      <td>0</td>\n",
       "      <td>0</td>\n",
       "    </tr>\n",
       "  </tbody>\n",
       "</table>\n",
       "<p>10 rows × 24 columns</p>\n",
       "</div>"
      ],
      "text/plain": [
       "        client_id             visitor_id                      visit_id  \\\n",
       "116328    3561384   451664975_1722933822  100012776_37918976071_457913   \n",
       "116327    3561384   451664975_1722933822  100012776_37918976071_457913   \n",
       "256722    7338123  612065484_94198474375   100019538_17884295066_43909   \n",
       "256721    7338123  612065484_94198474375   100019538_17884295066_43909   \n",
       "256720    7338123  612065484_94198474375   100019538_17884295066_43909   \n",
       "256719    7338123  612065484_94198474375   100019538_17884295066_43909   \n",
       "256718    7338123  612065484_94198474375   100019538_17884295066_43909   \n",
       "256717    7338123  612065484_94198474375   100019538_17884295066_43909   \n",
       "256716    7338123  612065484_94198474375   100019538_17884295066_43909   \n",
       "256715    7338123  612065484_94198474375   100019538_17884295066_43909   \n",
       "\n",
       "       process_step           date_time Variation  clnt_tenure_yr  \\\n",
       "116328      confirm 2017-04-26 13:22:17      Test             4.0   \n",
       "116327      confirm 2017-04-26 13:23:09      Test             4.0   \n",
       "256722        start 2017-04-09 16:20:56      Test             7.0   \n",
       "256721       step_1 2017-04-09 16:21:12      Test             7.0   \n",
       "256720       step_2 2017-04-09 16:21:21      Test             7.0   \n",
       "256719       step_1 2017-04-09 16:21:35      Test             7.0   \n",
       "256718       step_1 2017-04-09 16:21:41      Test             7.0   \n",
       "256717        start 2017-04-09 16:21:45      Test             7.0   \n",
       "256716        start 2017-04-09 16:21:59      Test             7.0   \n",
       "256715       step_1 2017-04-09 16:22:04      Test             7.0   \n",
       "\n",
       "        clnt_tenure_mnth  clnt_age gendr  ...  flag_start  flag_step1  \\\n",
       "116328              56.0      59.5     U  ...           0           0   \n",
       "116327              56.0      59.5     U  ...           0           0   \n",
       "256722              88.0      23.5     M  ...           1           0   \n",
       "256721              88.0      23.5     M  ...           0           1   \n",
       "256720              88.0      23.5     M  ...           0           0   \n",
       "256719              88.0      23.5     M  ...           0           1   \n",
       "256718              88.0      23.5     M  ...           0           1   \n",
       "256717              88.0      23.5     M  ...           1           0   \n",
       "256716              88.0      23.5     M  ...           1           0   \n",
       "256715              88.0      23.5     M  ...           0           1   \n",
       "\n",
       "        flag_step2  flag_step3  flag_confirm     lead  flag_start-step1  \\\n",
       "116328           0           0             1  confirm                 0   \n",
       "116327           0           0             1      NaN                 0   \n",
       "256722           0           0             0   step_1                 1   \n",
       "256721           0           0             0   step_2                 0   \n",
       "256720           1           0             0   step_1                 0   \n",
       "256719           0           0             0   step_1                 0   \n",
       "256718           0           0             0    start                 0   \n",
       "256717           0           0             0    start                 0   \n",
       "256716           0           0             0   step_1                 1   \n",
       "256715           0           0             0   step_2                 0   \n",
       "\n",
       "        flag_step1-step2  flag_step2-step3 flag_step3-confirm  \n",
       "116328                 0                 0                  0  \n",
       "116327                 0                 0                  0  \n",
       "256722                 0                 0                  0  \n",
       "256721                 1                 0                  0  \n",
       "256720                 0                 0                  0  \n",
       "256719                 0                 0                  0  \n",
       "256718                 0                 0                  0  \n",
       "256717                 0                 0                  0  \n",
       "256716                 0                 0                  0  \n",
       "256715                 1                 0                  0  \n",
       "\n",
       "[10 rows x 24 columns]"
      ]
     },
     "execution_count": 127,
     "metadata": {},
     "output_type": "execute_result"
    }
   ],
   "source": [
    "#Adding flags to check the step transitions\n",
    "df['flag_start-step1'] = np.where((df['process_step']=='start') & (df['lead']=='step_1'), 1, 0)\n",
    "df['flag_step1-step2'] = np.where((df['process_step']=='step_1') & (df['lead']=='step_2'), 1, 0)\n",
    "df['flag_step2-step3'] = np.where((df['process_step']=='step_2') & (df['lead']=='step_3'), 1, 0)\n",
    "df['flag_step3-confirm'] = np.where((df['process_step']=='step_3') & (df['lead']=='confirm'), 1, 0)\n",
    "df.head(10)"
   ]
  },
  {
   "cell_type": "markdown",
   "metadata": {},
   "source": [
    "### Step drop-off flags"
   ]
  },
  {
   "cell_type": "code",
   "execution_count": 128,
   "metadata": {
    "scrolled": true
   },
   "outputs": [
    {
     "data": {
      "text/html": [
       "<div>\n",
       "<style scoped>\n",
       "    .dataframe tbody tr th:only-of-type {\n",
       "        vertical-align: middle;\n",
       "    }\n",
       "\n",
       "    .dataframe tbody tr th {\n",
       "        vertical-align: top;\n",
       "    }\n",
       "\n",
       "    .dataframe thead th {\n",
       "        text-align: right;\n",
       "    }\n",
       "</style>\n",
       "<table border=\"1\" class=\"dataframe\">\n",
       "  <thead>\n",
       "    <tr style=\"text-align: right;\">\n",
       "      <th></th>\n",
       "      <th>client_id</th>\n",
       "      <th>visitor_id</th>\n",
       "      <th>visit_id</th>\n",
       "      <th>process_step</th>\n",
       "      <th>date_time</th>\n",
       "      <th>Variation</th>\n",
       "      <th>clnt_tenure_yr</th>\n",
       "      <th>clnt_tenure_mnth</th>\n",
       "      <th>clnt_age</th>\n",
       "      <th>gendr</th>\n",
       "      <th>...</th>\n",
       "      <th>flag_confirm</th>\n",
       "      <th>lead</th>\n",
       "      <th>flag_start-step1</th>\n",
       "      <th>flag_step1-step2</th>\n",
       "      <th>flag_step2-step3</th>\n",
       "      <th>flag_step3-confirm</th>\n",
       "      <th>flag_start-dropoff</th>\n",
       "      <th>flag_step1-dropoff</th>\n",
       "      <th>flag_step2-dropoff</th>\n",
       "      <th>flag_step3-dropoff</th>\n",
       "    </tr>\n",
       "  </thead>\n",
       "  <tbody>\n",
       "    <tr>\n",
       "      <th>116328</th>\n",
       "      <td>3561384</td>\n",
       "      <td>451664975_1722933822</td>\n",
       "      <td>100012776_37918976071_457913</td>\n",
       "      <td>confirm</td>\n",
       "      <td>2017-04-26 13:22:17</td>\n",
       "      <td>Test</td>\n",
       "      <td>4.0</td>\n",
       "      <td>56.0</td>\n",
       "      <td>59.5</td>\n",
       "      <td>U</td>\n",
       "      <td>...</td>\n",
       "      <td>1</td>\n",
       "      <td>confirm</td>\n",
       "      <td>0</td>\n",
       "      <td>0</td>\n",
       "      <td>0</td>\n",
       "      <td>0</td>\n",
       "      <td>0</td>\n",
       "      <td>0</td>\n",
       "      <td>0</td>\n",
       "      <td>0</td>\n",
       "    </tr>\n",
       "    <tr>\n",
       "      <th>116327</th>\n",
       "      <td>3561384</td>\n",
       "      <td>451664975_1722933822</td>\n",
       "      <td>100012776_37918976071_457913</td>\n",
       "      <td>confirm</td>\n",
       "      <td>2017-04-26 13:23:09</td>\n",
       "      <td>Test</td>\n",
       "      <td>4.0</td>\n",
       "      <td>56.0</td>\n",
       "      <td>59.5</td>\n",
       "      <td>U</td>\n",
       "      <td>...</td>\n",
       "      <td>1</td>\n",
       "      <td>NaN</td>\n",
       "      <td>0</td>\n",
       "      <td>0</td>\n",
       "      <td>0</td>\n",
       "      <td>0</td>\n",
       "      <td>0</td>\n",
       "      <td>0</td>\n",
       "      <td>0</td>\n",
       "      <td>0</td>\n",
       "    </tr>\n",
       "    <tr>\n",
       "      <th>256722</th>\n",
       "      <td>7338123</td>\n",
       "      <td>612065484_94198474375</td>\n",
       "      <td>100019538_17884295066_43909</td>\n",
       "      <td>start</td>\n",
       "      <td>2017-04-09 16:20:56</td>\n",
       "      <td>Test</td>\n",
       "      <td>7.0</td>\n",
       "      <td>88.0</td>\n",
       "      <td>23.5</td>\n",
       "      <td>M</td>\n",
       "      <td>...</td>\n",
       "      <td>0</td>\n",
       "      <td>step_1</td>\n",
       "      <td>1</td>\n",
       "      <td>0</td>\n",
       "      <td>0</td>\n",
       "      <td>0</td>\n",
       "      <td>0</td>\n",
       "      <td>0</td>\n",
       "      <td>0</td>\n",
       "      <td>0</td>\n",
       "    </tr>\n",
       "    <tr>\n",
       "      <th>256721</th>\n",
       "      <td>7338123</td>\n",
       "      <td>612065484_94198474375</td>\n",
       "      <td>100019538_17884295066_43909</td>\n",
       "      <td>step_1</td>\n",
       "      <td>2017-04-09 16:21:12</td>\n",
       "      <td>Test</td>\n",
       "      <td>7.0</td>\n",
       "      <td>88.0</td>\n",
       "      <td>23.5</td>\n",
       "      <td>M</td>\n",
       "      <td>...</td>\n",
       "      <td>0</td>\n",
       "      <td>step_2</td>\n",
       "      <td>0</td>\n",
       "      <td>1</td>\n",
       "      <td>0</td>\n",
       "      <td>0</td>\n",
       "      <td>0</td>\n",
       "      <td>0</td>\n",
       "      <td>0</td>\n",
       "      <td>0</td>\n",
       "    </tr>\n",
       "    <tr>\n",
       "      <th>256720</th>\n",
       "      <td>7338123</td>\n",
       "      <td>612065484_94198474375</td>\n",
       "      <td>100019538_17884295066_43909</td>\n",
       "      <td>step_2</td>\n",
       "      <td>2017-04-09 16:21:21</td>\n",
       "      <td>Test</td>\n",
       "      <td>7.0</td>\n",
       "      <td>88.0</td>\n",
       "      <td>23.5</td>\n",
       "      <td>M</td>\n",
       "      <td>...</td>\n",
       "      <td>0</td>\n",
       "      <td>step_1</td>\n",
       "      <td>0</td>\n",
       "      <td>0</td>\n",
       "      <td>0</td>\n",
       "      <td>0</td>\n",
       "      <td>0</td>\n",
       "      <td>0</td>\n",
       "      <td>0</td>\n",
       "      <td>0</td>\n",
       "    </tr>\n",
       "    <tr>\n",
       "      <th>256719</th>\n",
       "      <td>7338123</td>\n",
       "      <td>612065484_94198474375</td>\n",
       "      <td>100019538_17884295066_43909</td>\n",
       "      <td>step_1</td>\n",
       "      <td>2017-04-09 16:21:35</td>\n",
       "      <td>Test</td>\n",
       "      <td>7.0</td>\n",
       "      <td>88.0</td>\n",
       "      <td>23.5</td>\n",
       "      <td>M</td>\n",
       "      <td>...</td>\n",
       "      <td>0</td>\n",
       "      <td>step_1</td>\n",
       "      <td>0</td>\n",
       "      <td>0</td>\n",
       "      <td>0</td>\n",
       "      <td>0</td>\n",
       "      <td>0</td>\n",
       "      <td>0</td>\n",
       "      <td>0</td>\n",
       "      <td>0</td>\n",
       "    </tr>\n",
       "    <tr>\n",
       "      <th>256718</th>\n",
       "      <td>7338123</td>\n",
       "      <td>612065484_94198474375</td>\n",
       "      <td>100019538_17884295066_43909</td>\n",
       "      <td>step_1</td>\n",
       "      <td>2017-04-09 16:21:41</td>\n",
       "      <td>Test</td>\n",
       "      <td>7.0</td>\n",
       "      <td>88.0</td>\n",
       "      <td>23.5</td>\n",
       "      <td>M</td>\n",
       "      <td>...</td>\n",
       "      <td>0</td>\n",
       "      <td>start</td>\n",
       "      <td>0</td>\n",
       "      <td>0</td>\n",
       "      <td>0</td>\n",
       "      <td>0</td>\n",
       "      <td>0</td>\n",
       "      <td>0</td>\n",
       "      <td>0</td>\n",
       "      <td>0</td>\n",
       "    </tr>\n",
       "    <tr>\n",
       "      <th>256717</th>\n",
       "      <td>7338123</td>\n",
       "      <td>612065484_94198474375</td>\n",
       "      <td>100019538_17884295066_43909</td>\n",
       "      <td>start</td>\n",
       "      <td>2017-04-09 16:21:45</td>\n",
       "      <td>Test</td>\n",
       "      <td>7.0</td>\n",
       "      <td>88.0</td>\n",
       "      <td>23.5</td>\n",
       "      <td>M</td>\n",
       "      <td>...</td>\n",
       "      <td>0</td>\n",
       "      <td>start</td>\n",
       "      <td>0</td>\n",
       "      <td>0</td>\n",
       "      <td>0</td>\n",
       "      <td>0</td>\n",
       "      <td>0</td>\n",
       "      <td>0</td>\n",
       "      <td>0</td>\n",
       "      <td>0</td>\n",
       "    </tr>\n",
       "    <tr>\n",
       "      <th>256716</th>\n",
       "      <td>7338123</td>\n",
       "      <td>612065484_94198474375</td>\n",
       "      <td>100019538_17884295066_43909</td>\n",
       "      <td>start</td>\n",
       "      <td>2017-04-09 16:21:59</td>\n",
       "      <td>Test</td>\n",
       "      <td>7.0</td>\n",
       "      <td>88.0</td>\n",
       "      <td>23.5</td>\n",
       "      <td>M</td>\n",
       "      <td>...</td>\n",
       "      <td>0</td>\n",
       "      <td>step_1</td>\n",
       "      <td>1</td>\n",
       "      <td>0</td>\n",
       "      <td>0</td>\n",
       "      <td>0</td>\n",
       "      <td>0</td>\n",
       "      <td>0</td>\n",
       "      <td>0</td>\n",
       "      <td>0</td>\n",
       "    </tr>\n",
       "    <tr>\n",
       "      <th>256715</th>\n",
       "      <td>7338123</td>\n",
       "      <td>612065484_94198474375</td>\n",
       "      <td>100019538_17884295066_43909</td>\n",
       "      <td>step_1</td>\n",
       "      <td>2017-04-09 16:22:04</td>\n",
       "      <td>Test</td>\n",
       "      <td>7.0</td>\n",
       "      <td>88.0</td>\n",
       "      <td>23.5</td>\n",
       "      <td>M</td>\n",
       "      <td>...</td>\n",
       "      <td>0</td>\n",
       "      <td>step_2</td>\n",
       "      <td>0</td>\n",
       "      <td>1</td>\n",
       "      <td>0</td>\n",
       "      <td>0</td>\n",
       "      <td>0</td>\n",
       "      <td>0</td>\n",
       "      <td>0</td>\n",
       "      <td>0</td>\n",
       "    </tr>\n",
       "  </tbody>\n",
       "</table>\n",
       "<p>10 rows × 28 columns</p>\n",
       "</div>"
      ],
      "text/plain": [
       "        client_id             visitor_id                      visit_id  \\\n",
       "116328    3561384   451664975_1722933822  100012776_37918976071_457913   \n",
       "116327    3561384   451664975_1722933822  100012776_37918976071_457913   \n",
       "256722    7338123  612065484_94198474375   100019538_17884295066_43909   \n",
       "256721    7338123  612065484_94198474375   100019538_17884295066_43909   \n",
       "256720    7338123  612065484_94198474375   100019538_17884295066_43909   \n",
       "256719    7338123  612065484_94198474375   100019538_17884295066_43909   \n",
       "256718    7338123  612065484_94198474375   100019538_17884295066_43909   \n",
       "256717    7338123  612065484_94198474375   100019538_17884295066_43909   \n",
       "256716    7338123  612065484_94198474375   100019538_17884295066_43909   \n",
       "256715    7338123  612065484_94198474375   100019538_17884295066_43909   \n",
       "\n",
       "       process_step           date_time Variation  clnt_tenure_yr  \\\n",
       "116328      confirm 2017-04-26 13:22:17      Test             4.0   \n",
       "116327      confirm 2017-04-26 13:23:09      Test             4.0   \n",
       "256722        start 2017-04-09 16:20:56      Test             7.0   \n",
       "256721       step_1 2017-04-09 16:21:12      Test             7.0   \n",
       "256720       step_2 2017-04-09 16:21:21      Test             7.0   \n",
       "256719       step_1 2017-04-09 16:21:35      Test             7.0   \n",
       "256718       step_1 2017-04-09 16:21:41      Test             7.0   \n",
       "256717        start 2017-04-09 16:21:45      Test             7.0   \n",
       "256716        start 2017-04-09 16:21:59      Test             7.0   \n",
       "256715       step_1 2017-04-09 16:22:04      Test             7.0   \n",
       "\n",
       "        clnt_tenure_mnth  clnt_age gendr  ...  flag_confirm     lead  \\\n",
       "116328              56.0      59.5     U  ...             1  confirm   \n",
       "116327              56.0      59.5     U  ...             1      NaN   \n",
       "256722              88.0      23.5     M  ...             0   step_1   \n",
       "256721              88.0      23.5     M  ...             0   step_2   \n",
       "256720              88.0      23.5     M  ...             0   step_1   \n",
       "256719              88.0      23.5     M  ...             0   step_1   \n",
       "256718              88.0      23.5     M  ...             0    start   \n",
       "256717              88.0      23.5     M  ...             0    start   \n",
       "256716              88.0      23.5     M  ...             0   step_1   \n",
       "256715              88.0      23.5     M  ...             0   step_2   \n",
       "\n",
       "        flag_start-step1  flag_step1-step2  flag_step2-step3  \\\n",
       "116328                 0                 0                 0   \n",
       "116327                 0                 0                 0   \n",
       "256722                 1                 0                 0   \n",
       "256721                 0                 1                 0   \n",
       "256720                 0                 0                 0   \n",
       "256719                 0                 0                 0   \n",
       "256718                 0                 0                 0   \n",
       "256717                 0                 0                 0   \n",
       "256716                 1                 0                 0   \n",
       "256715                 0                 1                 0   \n",
       "\n",
       "        flag_step3-confirm  flag_start-dropoff  flag_step1-dropoff  \\\n",
       "116328                   0                   0                   0   \n",
       "116327                   0                   0                   0   \n",
       "256722                   0                   0                   0   \n",
       "256721                   0                   0                   0   \n",
       "256720                   0                   0                   0   \n",
       "256719                   0                   0                   0   \n",
       "256718                   0                   0                   0   \n",
       "256717                   0                   0                   0   \n",
       "256716                   0                   0                   0   \n",
       "256715                   0                   0                   0   \n",
       "\n",
       "        flag_step2-dropoff flag_step3-dropoff  \n",
       "116328                   0                  0  \n",
       "116327                   0                  0  \n",
       "256722                   0                  0  \n",
       "256721                   0                  0  \n",
       "256720                   0                  0  \n",
       "256719                   0                  0  \n",
       "256718                   0                  0  \n",
       "256717                   0                  0  \n",
       "256716                   0                  0  \n",
       "256715                   0                  0  \n",
       "\n",
       "[10 rows x 28 columns]"
      ]
     },
     "execution_count": 128,
     "metadata": {},
     "output_type": "execute_result"
    }
   ],
   "source": [
    "#Adding flags to check the step drop-offs\n",
    "df['flag_start-dropoff'] = np.where((df['process_step']=='start') & (df['lead'].isnull()), 1, 0)\n",
    "df['flag_step1-dropoff'] = np.where((df['process_step']=='step_1') & (df['lead'].isnull()), 1, 0)\n",
    "df['flag_step2-dropoff'] = np.where((df['process_step']=='step_2') & (df['lead'].isnull()), 1, 0)\n",
    "df['flag_step3-dropoff'] = np.where((df['process_step']=='step_3') & (df['lead'].isnull()), 1, 0)\n",
    "df.head(10)"
   ]
  },
  {
   "cell_type": "markdown",
   "metadata": {},
   "source": [
    "### Step transition time flags"
   ]
  },
  {
   "cell_type": "code",
   "execution_count": 132,
   "metadata": {},
   "outputs": [],
   "source": [
    "#Adding a column to display the timestamp of process step in the next row, within the same visit_id\n",
    "df['leadtime']=df.groupby('visit_id')['date_time'].shift(-1)"
   ]
  },
  {
   "cell_type": "code",
   "execution_count": 133,
   "metadata": {},
   "outputs": [
    {
     "data": {
      "text/html": [
       "<div>\n",
       "<style scoped>\n",
       "    .dataframe tbody tr th:only-of-type {\n",
       "        vertical-align: middle;\n",
       "    }\n",
       "\n",
       "    .dataframe tbody tr th {\n",
       "        vertical-align: top;\n",
       "    }\n",
       "\n",
       "    .dataframe thead th {\n",
       "        text-align: right;\n",
       "    }\n",
       "</style>\n",
       "<table border=\"1\" class=\"dataframe\">\n",
       "  <thead>\n",
       "    <tr style=\"text-align: right;\">\n",
       "      <th></th>\n",
       "      <th>client_id</th>\n",
       "      <th>visitor_id</th>\n",
       "      <th>visit_id</th>\n",
       "      <th>process_step</th>\n",
       "      <th>date_time</th>\n",
       "      <th>Variation</th>\n",
       "      <th>clnt_tenure_yr</th>\n",
       "      <th>clnt_tenure_mnth</th>\n",
       "      <th>clnt_age</th>\n",
       "      <th>gendr</th>\n",
       "      <th>...</th>\n",
       "      <th>flag_step3-confirm</th>\n",
       "      <th>flag_start-dropoff</th>\n",
       "      <th>flag_step1-dropoff</th>\n",
       "      <th>flag_step2-dropoff</th>\n",
       "      <th>flag_step3-dropoff</th>\n",
       "      <th>leadtime</th>\n",
       "      <th>start_time</th>\n",
       "      <th>step1_time</th>\n",
       "      <th>step2_time</th>\n",
       "      <th>step3_time</th>\n",
       "    </tr>\n",
       "  </thead>\n",
       "  <tbody>\n",
       "    <tr>\n",
       "      <th>116328</th>\n",
       "      <td>3561384</td>\n",
       "      <td>451664975_1722933822</td>\n",
       "      <td>100012776_37918976071_457913</td>\n",
       "      <td>confirm</td>\n",
       "      <td>2017-04-26 13:22:17</td>\n",
       "      <td>Test</td>\n",
       "      <td>4.0</td>\n",
       "      <td>56.0</td>\n",
       "      <td>59.5</td>\n",
       "      <td>U</td>\n",
       "      <td>...</td>\n",
       "      <td>0</td>\n",
       "      <td>0</td>\n",
       "      <td>0</td>\n",
       "      <td>0</td>\n",
       "      <td>0</td>\n",
       "      <td>2017-04-26 13:23:09</td>\n",
       "      <td>0 days 00:00:00</td>\n",
       "      <td>0 days 00:00:00</td>\n",
       "      <td>0 days</td>\n",
       "      <td>0 days</td>\n",
       "    </tr>\n",
       "    <tr>\n",
       "      <th>116327</th>\n",
       "      <td>3561384</td>\n",
       "      <td>451664975_1722933822</td>\n",
       "      <td>100012776_37918976071_457913</td>\n",
       "      <td>confirm</td>\n",
       "      <td>2017-04-26 13:23:09</td>\n",
       "      <td>Test</td>\n",
       "      <td>4.0</td>\n",
       "      <td>56.0</td>\n",
       "      <td>59.5</td>\n",
       "      <td>U</td>\n",
       "      <td>...</td>\n",
       "      <td>0</td>\n",
       "      <td>0</td>\n",
       "      <td>0</td>\n",
       "      <td>0</td>\n",
       "      <td>0</td>\n",
       "      <td>NaT</td>\n",
       "      <td>0 days 00:00:00</td>\n",
       "      <td>0 days 00:00:00</td>\n",
       "      <td>0 days</td>\n",
       "      <td>0 days</td>\n",
       "    </tr>\n",
       "    <tr>\n",
       "      <th>256722</th>\n",
       "      <td>7338123</td>\n",
       "      <td>612065484_94198474375</td>\n",
       "      <td>100019538_17884295066_43909</td>\n",
       "      <td>start</td>\n",
       "      <td>2017-04-09 16:20:56</td>\n",
       "      <td>Test</td>\n",
       "      <td>7.0</td>\n",
       "      <td>88.0</td>\n",
       "      <td>23.5</td>\n",
       "      <td>M</td>\n",
       "      <td>...</td>\n",
       "      <td>0</td>\n",
       "      <td>0</td>\n",
       "      <td>0</td>\n",
       "      <td>0</td>\n",
       "      <td>0</td>\n",
       "      <td>2017-04-09 16:21:12</td>\n",
       "      <td>0 days 00:00:16</td>\n",
       "      <td>0 days 00:00:00</td>\n",
       "      <td>0 days</td>\n",
       "      <td>0 days</td>\n",
       "    </tr>\n",
       "    <tr>\n",
       "      <th>256721</th>\n",
       "      <td>7338123</td>\n",
       "      <td>612065484_94198474375</td>\n",
       "      <td>100019538_17884295066_43909</td>\n",
       "      <td>step_1</td>\n",
       "      <td>2017-04-09 16:21:12</td>\n",
       "      <td>Test</td>\n",
       "      <td>7.0</td>\n",
       "      <td>88.0</td>\n",
       "      <td>23.5</td>\n",
       "      <td>M</td>\n",
       "      <td>...</td>\n",
       "      <td>0</td>\n",
       "      <td>0</td>\n",
       "      <td>0</td>\n",
       "      <td>0</td>\n",
       "      <td>0</td>\n",
       "      <td>2017-04-09 16:21:21</td>\n",
       "      <td>0 days 00:00:00</td>\n",
       "      <td>0 days 00:00:09</td>\n",
       "      <td>0 days</td>\n",
       "      <td>0 days</td>\n",
       "    </tr>\n",
       "    <tr>\n",
       "      <th>256720</th>\n",
       "      <td>7338123</td>\n",
       "      <td>612065484_94198474375</td>\n",
       "      <td>100019538_17884295066_43909</td>\n",
       "      <td>step_2</td>\n",
       "      <td>2017-04-09 16:21:21</td>\n",
       "      <td>Test</td>\n",
       "      <td>7.0</td>\n",
       "      <td>88.0</td>\n",
       "      <td>23.5</td>\n",
       "      <td>M</td>\n",
       "      <td>...</td>\n",
       "      <td>0</td>\n",
       "      <td>0</td>\n",
       "      <td>0</td>\n",
       "      <td>0</td>\n",
       "      <td>0</td>\n",
       "      <td>2017-04-09 16:21:35</td>\n",
       "      <td>0 days 00:00:00</td>\n",
       "      <td>0 days 00:00:00</td>\n",
       "      <td>0 days</td>\n",
       "      <td>0 days</td>\n",
       "    </tr>\n",
       "    <tr>\n",
       "      <th>256719</th>\n",
       "      <td>7338123</td>\n",
       "      <td>612065484_94198474375</td>\n",
       "      <td>100019538_17884295066_43909</td>\n",
       "      <td>step_1</td>\n",
       "      <td>2017-04-09 16:21:35</td>\n",
       "      <td>Test</td>\n",
       "      <td>7.0</td>\n",
       "      <td>88.0</td>\n",
       "      <td>23.5</td>\n",
       "      <td>M</td>\n",
       "      <td>...</td>\n",
       "      <td>0</td>\n",
       "      <td>0</td>\n",
       "      <td>0</td>\n",
       "      <td>0</td>\n",
       "      <td>0</td>\n",
       "      <td>2017-04-09 16:21:41</td>\n",
       "      <td>0 days 00:00:00</td>\n",
       "      <td>0 days 00:00:00</td>\n",
       "      <td>0 days</td>\n",
       "      <td>0 days</td>\n",
       "    </tr>\n",
       "    <tr>\n",
       "      <th>256718</th>\n",
       "      <td>7338123</td>\n",
       "      <td>612065484_94198474375</td>\n",
       "      <td>100019538_17884295066_43909</td>\n",
       "      <td>step_1</td>\n",
       "      <td>2017-04-09 16:21:41</td>\n",
       "      <td>Test</td>\n",
       "      <td>7.0</td>\n",
       "      <td>88.0</td>\n",
       "      <td>23.5</td>\n",
       "      <td>M</td>\n",
       "      <td>...</td>\n",
       "      <td>0</td>\n",
       "      <td>0</td>\n",
       "      <td>0</td>\n",
       "      <td>0</td>\n",
       "      <td>0</td>\n",
       "      <td>2017-04-09 16:21:45</td>\n",
       "      <td>0 days 00:00:00</td>\n",
       "      <td>0 days 00:00:00</td>\n",
       "      <td>0 days</td>\n",
       "      <td>0 days</td>\n",
       "    </tr>\n",
       "    <tr>\n",
       "      <th>256717</th>\n",
       "      <td>7338123</td>\n",
       "      <td>612065484_94198474375</td>\n",
       "      <td>100019538_17884295066_43909</td>\n",
       "      <td>start</td>\n",
       "      <td>2017-04-09 16:21:45</td>\n",
       "      <td>Test</td>\n",
       "      <td>7.0</td>\n",
       "      <td>88.0</td>\n",
       "      <td>23.5</td>\n",
       "      <td>M</td>\n",
       "      <td>...</td>\n",
       "      <td>0</td>\n",
       "      <td>0</td>\n",
       "      <td>0</td>\n",
       "      <td>0</td>\n",
       "      <td>0</td>\n",
       "      <td>2017-04-09 16:21:59</td>\n",
       "      <td>0 days 00:00:00</td>\n",
       "      <td>0 days 00:00:00</td>\n",
       "      <td>0 days</td>\n",
       "      <td>0 days</td>\n",
       "    </tr>\n",
       "    <tr>\n",
       "      <th>256716</th>\n",
       "      <td>7338123</td>\n",
       "      <td>612065484_94198474375</td>\n",
       "      <td>100019538_17884295066_43909</td>\n",
       "      <td>start</td>\n",
       "      <td>2017-04-09 16:21:59</td>\n",
       "      <td>Test</td>\n",
       "      <td>7.0</td>\n",
       "      <td>88.0</td>\n",
       "      <td>23.5</td>\n",
       "      <td>M</td>\n",
       "      <td>...</td>\n",
       "      <td>0</td>\n",
       "      <td>0</td>\n",
       "      <td>0</td>\n",
       "      <td>0</td>\n",
       "      <td>0</td>\n",
       "      <td>2017-04-09 16:22:04</td>\n",
       "      <td>0 days 00:00:05</td>\n",
       "      <td>0 days 00:00:00</td>\n",
       "      <td>0 days</td>\n",
       "      <td>0 days</td>\n",
       "    </tr>\n",
       "    <tr>\n",
       "      <th>256715</th>\n",
       "      <td>7338123</td>\n",
       "      <td>612065484_94198474375</td>\n",
       "      <td>100019538_17884295066_43909</td>\n",
       "      <td>step_1</td>\n",
       "      <td>2017-04-09 16:22:04</td>\n",
       "      <td>Test</td>\n",
       "      <td>7.0</td>\n",
       "      <td>88.0</td>\n",
       "      <td>23.5</td>\n",
       "      <td>M</td>\n",
       "      <td>...</td>\n",
       "      <td>0</td>\n",
       "      <td>0</td>\n",
       "      <td>0</td>\n",
       "      <td>0</td>\n",
       "      <td>0</td>\n",
       "      <td>2017-04-09 16:22:08</td>\n",
       "      <td>0 days 00:00:00</td>\n",
       "      <td>0 days 00:00:04</td>\n",
       "      <td>0 days</td>\n",
       "      <td>0 days</td>\n",
       "    </tr>\n",
       "  </tbody>\n",
       "</table>\n",
       "<p>10 rows × 33 columns</p>\n",
       "</div>"
      ],
      "text/plain": [
       "        client_id             visitor_id                      visit_id  \\\n",
       "116328    3561384   451664975_1722933822  100012776_37918976071_457913   \n",
       "116327    3561384   451664975_1722933822  100012776_37918976071_457913   \n",
       "256722    7338123  612065484_94198474375   100019538_17884295066_43909   \n",
       "256721    7338123  612065484_94198474375   100019538_17884295066_43909   \n",
       "256720    7338123  612065484_94198474375   100019538_17884295066_43909   \n",
       "256719    7338123  612065484_94198474375   100019538_17884295066_43909   \n",
       "256718    7338123  612065484_94198474375   100019538_17884295066_43909   \n",
       "256717    7338123  612065484_94198474375   100019538_17884295066_43909   \n",
       "256716    7338123  612065484_94198474375   100019538_17884295066_43909   \n",
       "256715    7338123  612065484_94198474375   100019538_17884295066_43909   \n",
       "\n",
       "       process_step           date_time Variation  clnt_tenure_yr  \\\n",
       "116328      confirm 2017-04-26 13:22:17      Test             4.0   \n",
       "116327      confirm 2017-04-26 13:23:09      Test             4.0   \n",
       "256722        start 2017-04-09 16:20:56      Test             7.0   \n",
       "256721       step_1 2017-04-09 16:21:12      Test             7.0   \n",
       "256720       step_2 2017-04-09 16:21:21      Test             7.0   \n",
       "256719       step_1 2017-04-09 16:21:35      Test             7.0   \n",
       "256718       step_1 2017-04-09 16:21:41      Test             7.0   \n",
       "256717        start 2017-04-09 16:21:45      Test             7.0   \n",
       "256716        start 2017-04-09 16:21:59      Test             7.0   \n",
       "256715       step_1 2017-04-09 16:22:04      Test             7.0   \n",
       "\n",
       "        clnt_tenure_mnth  clnt_age gendr  ...  flag_step3-confirm  \\\n",
       "116328              56.0      59.5     U  ...                   0   \n",
       "116327              56.0      59.5     U  ...                   0   \n",
       "256722              88.0      23.5     M  ...                   0   \n",
       "256721              88.0      23.5     M  ...                   0   \n",
       "256720              88.0      23.5     M  ...                   0   \n",
       "256719              88.0      23.5     M  ...                   0   \n",
       "256718              88.0      23.5     M  ...                   0   \n",
       "256717              88.0      23.5     M  ...                   0   \n",
       "256716              88.0      23.5     M  ...                   0   \n",
       "256715              88.0      23.5     M  ...                   0   \n",
       "\n",
       "        flag_start-dropoff  flag_step1-dropoff  flag_step2-dropoff  \\\n",
       "116328                   0                   0                   0   \n",
       "116327                   0                   0                   0   \n",
       "256722                   0                   0                   0   \n",
       "256721                   0                   0                   0   \n",
       "256720                   0                   0                   0   \n",
       "256719                   0                   0                   0   \n",
       "256718                   0                   0                   0   \n",
       "256717                   0                   0                   0   \n",
       "256716                   0                   0                   0   \n",
       "256715                   0                   0                   0   \n",
       "\n",
       "        flag_step3-dropoff            leadtime      start_time  \\\n",
       "116328                   0 2017-04-26 13:23:09 0 days 00:00:00   \n",
       "116327                   0                 NaT 0 days 00:00:00   \n",
       "256722                   0 2017-04-09 16:21:12 0 days 00:00:16   \n",
       "256721                   0 2017-04-09 16:21:21 0 days 00:00:00   \n",
       "256720                   0 2017-04-09 16:21:35 0 days 00:00:00   \n",
       "256719                   0 2017-04-09 16:21:41 0 days 00:00:00   \n",
       "256718                   0 2017-04-09 16:21:45 0 days 00:00:00   \n",
       "256717                   0 2017-04-09 16:21:59 0 days 00:00:00   \n",
       "256716                   0 2017-04-09 16:22:04 0 days 00:00:05   \n",
       "256715                   0 2017-04-09 16:22:08 0 days 00:00:00   \n",
       "\n",
       "            step1_time  step2_time step3_time  \n",
       "116328 0 days 00:00:00      0 days     0 days  \n",
       "116327 0 days 00:00:00      0 days     0 days  \n",
       "256722 0 days 00:00:00      0 days     0 days  \n",
       "256721 0 days 00:00:09      0 days     0 days  \n",
       "256720 0 days 00:00:00      0 days     0 days  \n",
       "256719 0 days 00:00:00      0 days     0 days  \n",
       "256718 0 days 00:00:00      0 days     0 days  \n",
       "256717 0 days 00:00:00      0 days     0 days  \n",
       "256716 0 days 00:00:00      0 days     0 days  \n",
       "256715 0 days 00:00:04      0 days     0 days  \n",
       "\n",
       "[10 rows x 33 columns]"
      ]
     },
     "execution_count": 133,
     "metadata": {},
     "output_type": "execute_result"
    }
   ],
   "source": [
    "#Adding flags to store step transition times\n",
    "df['start_time'] = np.where((df['flag_start-step1']==1), df['leadtime']-df['date_time'], 0)\n",
    "df['step1_time'] = np.where((df['flag_step1-step2']==1), df['leadtime']-df['date_time'], 0)\n",
    "df['step2_time'] = np.where((df['flag_step2-step3']==1), df['leadtime']-df['date_time'], 0)\n",
    "df['step3_time'] = np.where((df['flag_step3-confirm']==1), df['leadtime']-df['date_time'], 0)\n",
    "df.head(10)"
   ]
  },
  {
   "cell_type": "code",
   "execution_count": 144,
   "metadata": {},
   "outputs": [],
   "source": [
    "#Splitting the data into control group and test group, after adding all the flags\n",
    "c=df[df[\"Variation\"]=='Control']\n",
    "t=df[df[\"Variation\"]=='Test']"
   ]
  },
  {
   "cell_type": "markdown",
   "metadata": {},
   "source": [
    "### CONFIRM RATE"
   ]
  },
  {
   "cell_type": "markdown",
   "metadata": {},
   "source": [
    "#### 𝐶𝑜𝑛𝑓𝑖𝑟𝑚 𝑅𝑎𝑡𝑒=  (𝑁𝑜. 𝑜𝑓 𝑑𝑖𝑠𝑡𝑖𝑛𝑐𝑡 𝑣𝑖𝑠𝑖𝑡𝑠 𝑤ℎ𝑖𝑐ℎ ℎ𝑖𝑡 ′𝐶𝑜𝑛𝑓𝑖𝑟𝑚′)/(𝑇𝑜𝑡𝑎𝑙 𝑁𝑜. 𝑜𝑓 𝑣𝑖𝑠𝑖𝑡𝑠)"
   ]
  },
  {
   "cell_type": "code",
   "execution_count": 147,
   "metadata": {},
   "outputs": [
    {
     "data": {
      "text/plain": [
       "30903"
      ]
     },
     "execution_count": 147,
     "metadata": {},
     "output_type": "execute_result"
    }
   ],
   "source": [
    "#Flag-start counted once for one visit id\n",
    "#Number of distinct start from each visit_id in control group\n",
    "start_num_c=c.groupby('flag_start')[\"visit_id\"].nunique()\n",
    "start_num_c=start_num_c.iloc[1]\n",
    "start_num_c"
   ]
  },
  {
   "cell_type": "code",
   "execution_count": 148,
   "metadata": {},
   "outputs": [
    {
     "data": {
      "text/plain": [
       "16039"
      ]
     },
     "execution_count": 148,
     "metadata": {},
     "output_type": "execute_result"
    }
   ],
   "source": [
    "#Number of distinct confirm from each visit_id in control group\n",
    "confirm_num_c=c.groupby('flag_confirm')[\"visit_id\"].nunique()\n",
    "confirm_num_c=confirm_num_c.iloc[1]\n",
    "confirm_num_c"
   ]
  },
  {
   "cell_type": "code",
   "execution_count": 149,
   "metadata": {},
   "outputs": [
    {
     "data": {
      "text/plain": [
       "33144"
      ]
     },
     "execution_count": 149,
     "metadata": {},
     "output_type": "execute_result"
    }
   ],
   "source": [
    "#Number of distinct start from each visit_id in test group\n",
    "start_num_t=t.groupby('flag_start')[\"visit_id\"].nunique()\n",
    "start_num_t=start_num_t.iloc[1]\n",
    "start_num_t"
   ]
  },
  {
   "cell_type": "code",
   "execution_count": 150,
   "metadata": {},
   "outputs": [
    {
     "data": {
      "text/plain": [
       "21725"
      ]
     },
     "execution_count": 150,
     "metadata": {},
     "output_type": "execute_result"
    }
   ],
   "source": [
    "#Number of distinct confirm from each visit_id in test group\n",
    "confirm_num_t=t.groupby('flag_confirm')[\"visit_id\"].nunique()\n",
    "confirm_num_t=confirm_num_t.iloc[1]\n",
    "confirm_num_t"
   ]
  },
  {
   "cell_type": "code",
   "execution_count": 152,
   "metadata": {},
   "outputs": [
    {
     "name": "stdout",
     "output_type": "stream",
     "text": [
      "Confirm rate of Control Group 0.5190110992460278\n",
      "Confirm rate of Test Group 0.6554730871349264\n"
     ]
    }
   ],
   "source": [
    "#Confirm rate of Control Group\n",
    "print(\"Confirm rate of Control Group\",confirm_num_c/start_num_c)\n",
    "#Confirm rate of Test Group\n",
    "print(\"Confirm rate of Test Group\",confirm_num_t/start_num_t)"
   ]
  },
  {
   "cell_type": "markdown",
   "metadata": {},
   "source": [
    "### Variation of Confirm Rates based on gender"
   ]
  },
  {
   "cell_type": "code",
   "execution_count": 153,
   "metadata": {},
   "outputs": [],
   "source": [
    "#Splitting the control and test groups on the basis of male and female genders\n",
    "m_c=c[c[\"gendr\"]=='M']\n",
    "f_c=c[c[\"gendr\"]=='F']\n",
    "m_t=t[t[\"gendr\"]=='M']\n",
    "f_t=t[t[\"gendr\"]=='F']"
   ]
  },
  {
   "cell_type": "code",
   "execution_count": 154,
   "metadata": {},
   "outputs": [],
   "source": [
    "#Control group confirm rate comparison between different genders\n",
    "#start\n",
    "start_num_mc=m_c.groupby('flag_start')[\"visit_id\"].nunique().iloc[1]\n",
    "start_num_fc=f_c.groupby('flag_start')[\"visit_id\"].nunique().iloc[1]\n",
    "start_num_mt=m_t.groupby('flag_start')[\"visit_id\"].nunique().iloc[1]\n",
    "start_num_ft=f_t.groupby('flag_start')[\"visit_id\"].nunique().iloc[1]\n",
    "#confirm\n",
    "confirm_num_mc=m_c.groupby('flag_confirm')[\"visit_id\"].nunique().iloc[1]\n",
    "confirm_num_fc=f_c.groupby('flag_confirm')[\"visit_id\"].nunique().iloc[1]\n",
    "confirm_num_mt=m_t.groupby('flag_confirm')[\"visit_id\"].nunique().iloc[1]\n",
    "confirm_num_ft=f_t.groupby('flag_confirm')[\"visit_id\"].nunique().iloc[1]"
   ]
  },
  {
   "cell_type": "code",
   "execution_count": 155,
   "metadata": {},
   "outputs": [
    {
     "name": "stdout",
     "output_type": "stream",
     "text": [
      "Confirm rate of Males in Control Group 0.5206844678450545\n",
      "Confirm rate of Females in Control Group 0.5036057692307693\n",
      "Confirm rate of Males in Test Group 0.6830606006114008\n",
      "Confirm rate of Females in Test Group 0.6346686357762599\n"
     ]
    }
   ],
   "source": [
    "print(\"Confirm rate of Males in Control Group\",confirm_num_mc/start_num_mc)\n",
    "print(\"Confirm rate of Females in Control Group\",confirm_num_fc/start_num_fc)\n",
    "print(\"Confirm rate of Males in Test Group\",confirm_num_mt/start_num_mt)\n",
    "print(\"Confirm rate of Females in Test Group\",confirm_num_ft/start_num_ft)"
   ]
  },
  {
   "cell_type": "markdown",
   "metadata": {},
   "source": [
    "### Statistical Test for Confirm Rate"
   ]
  },
  {
   "cell_type": "code",
   "execution_count": 156,
   "metadata": {},
   "outputs": [
    {
     "name": "stdout",
     "output_type": "stream",
     "text": [
      "Z-statistic for confirm rate: -35.08224753617665\n",
      "p-value: 6.287002370874247e-270\n"
     ]
    }
   ],
   "source": [
    "#Left-tailed Proportions Z-Test for Confirm rate\n",
    "confirm_num=np.array([confirm_num_c,confirm_num_t])\n",
    "start_num=np.array([start_num_c,start_num_t])\n",
    "(test_stat, p_value)=proportions_ztest(confirm_num,start_num, alternative='smaller')\n",
    "print(\"Z-statistic for confirm rate:\", test_stat)\n",
    "print(\"p-value:\", p_value)"
   ]
  },
  {
   "cell_type": "markdown",
   "metadata": {},
   "source": [
    "## DROP-OFF RATE "
   ]
  },
  {
   "cell_type": "markdown",
   "metadata": {},
   "source": [
    "#### 𝐷𝑟𝑜𝑝−𝑂𝑓𝑓 𝑅𝑎𝑡𝑒=  (𝑁𝑜. 𝑜𝑓 𝑣𝑖𝑠𝑖𝑡 𝑑𝑟𝑜𝑝−𝑜𝑓𝑓𝑠 𝑎𝑡 𝑡ℎ𝑒 𝑝𝑎𝑟𝑡𝑖𝑐𝑢𝑙𝑎𝑟 𝑠𝑡𝑒𝑝)/(𝑇𝑜𝑎𝑙 𝑁𝑜. 𝑜𝑓 𝑡𝑟𝑎𝑛𝑠𝑖𝑡𝑖𝑜𝑛𝑠 𝑓𝑟𝑜𝑚 𝑐𝑢𝑟𝑟𝑒𝑛𝑡 𝑠𝑡𝑒𝑝 𝑡𝑜 𝑡ℎ𝑒 𝑛𝑒𝑥𝑡 𝑠𝑡𝑒𝑝)"
   ]
  },
  {
   "cell_type": "markdown",
   "metadata": {},
   "source": [
    "### Drop-off rate for 'Start'"
   ]
  },
  {
   "cell_type": "code",
   "execution_count": 206,
   "metadata": {},
   "outputs": [
    {
     "name": "stdout",
     "output_type": "stream",
     "text": [
      "Start Drop-off rate for control group: 0.2723240769513263\n"
     ]
    }
   ],
   "source": [
    "#Control group drop-off rate for 'start'\n",
    "ss1_c=c['flag_start-step1'].sum()\n",
    "sdrop_c=c['flag_start-dropoff'].sum()\n",
    "sdrop_rate_c=sdrop_c/(sdrop_c+ss1_c)\n",
    "print(\"Start Drop-off rate for control group:\", sdrop_rate_c)"
   ]
  },
  {
   "cell_type": "code",
   "execution_count": 207,
   "metadata": {},
   "outputs": [
    {
     "name": "stdout",
     "output_type": "stream",
     "text": [
      "Start Drop-off rate for test group: 0.22069545709478408\n"
     ]
    }
   ],
   "source": [
    "#Test group drop-off rate for 'start'\n",
    "ss1_t=t['flag_start-step1'].sum()\n",
    "sdrop_t=t['flag_start-dropoff'].sum()\n",
    "sdrop_rate_t=sdrop_t/(sdrop_t+ss1_t)\n",
    "print(\"Start Drop-off rate for test group:\", sdrop_rate_t)"
   ]
  },
  {
   "cell_type": "markdown",
   "metadata": {},
   "source": [
    "### Drop-off rate for 'Step1'"
   ]
  },
  {
   "cell_type": "code",
   "execution_count": 166,
   "metadata": {},
   "outputs": [
    {
     "name": "stdout",
     "output_type": "stream",
     "text": [
      "Step1 Drop-off rate for control group: 0.13521366859091086\n"
     ]
    }
   ],
   "source": [
    "#Control group drop-off rate for 'step1'\n",
    "s1s2_c=c['flag_step1-step2'].sum()\n",
    "s1drop_c=c['flag_step1-dropoff'].sum()\n",
    "s1drop_rate_c=s1drop_c/(s1drop_c+s1s2_c)\n",
    "print(\"Step1 Drop-off rate for control group:\", s1drop_rate_c)"
   ]
  },
  {
   "cell_type": "code",
   "execution_count": 167,
   "metadata": {},
   "outputs": [
    {
     "name": "stdout",
     "output_type": "stream",
     "text": [
      "Step1 Drop-off rate for test group: 0.10238662705279311\n"
     ]
    }
   ],
   "source": [
    "#Test group drop-off rate for 'step1'\n",
    "s1s2_t=t['flag_step1-step2'].sum()\n",
    "s1drop_t=t['flag_step1-dropoff'].sum()\n",
    "s1drop_rate_t=s1drop_t/(s1drop_t+s1s2_t)\n",
    "print(\"Step1 Drop-off rate for test group:\", s1drop_rate_t)"
   ]
  },
  {
   "cell_type": "markdown",
   "metadata": {},
   "source": [
    "### Drop-off rate for 'Step2'"
   ]
  },
  {
   "cell_type": "code",
   "execution_count": 169,
   "metadata": {},
   "outputs": [
    {
     "name": "stdout",
     "output_type": "stream",
     "text": [
      "Step2 Drop-off rate for control group: 0.06412852112676057\n"
     ]
    }
   ],
   "source": [
    "#Control group drop-off rate for 'step2'\n",
    "s2s3_c=c['flag_step2-step3'].sum()\n",
    "s2drop_c=c['flag_step2-dropoff'].sum()\n",
    "s2drop_rate_c=s2drop_c/(s2drop_c+s2s3_c)\n",
    "print(\"Step2 Drop-off rate for control group:\", s2drop_rate_c)"
   ]
  },
  {
   "cell_type": "code",
   "execution_count": 170,
   "metadata": {},
   "outputs": [
    {
     "name": "stdout",
     "output_type": "stream",
     "text": [
      "Step2 Drop-off rate for test group: 0.05174035747883349\n"
     ]
    }
   ],
   "source": [
    "#Test group drop-off rate for 'step2'\n",
    "s2s3_t=t['flag_step2-step3'].sum()\n",
    "s2drop_t=t['flag_step2-dropoff'].sum()\n",
    "s2drop_rate_t=s2drop_t/(s2drop_t+s2s3_t)\n",
    "print(\"Step2 Drop-off rate for test group:\", s2drop_rate_t)"
   ]
  },
  {
   "cell_type": "markdown",
   "metadata": {},
   "source": [
    "### Drop-off rate for 'Step3'"
   ]
  },
  {
   "cell_type": "code",
   "execution_count": 171,
   "metadata": {},
   "outputs": [
    {
     "name": "stdout",
     "output_type": "stream",
     "text": [
      "Step3 Drop-off rate for control group: 0.1283660429027841\n"
     ]
    }
   ],
   "source": [
    "#Control group drop-off rate for 'step3'\n",
    "s3c_c=c['flag_step3-confirm'].sum()\n",
    "s3drop_c=c['flag_step3-dropoff'].sum()\n",
    "s3drop_rate_c=s3drop_c/(s3drop_c+s3c_c)\n",
    "print(\"Step3 Drop-off rate for control group:\", s3drop_rate_c)"
   ]
  },
  {
   "cell_type": "code",
   "execution_count": 172,
   "metadata": {},
   "outputs": [
    {
     "name": "stdout",
     "output_type": "stream",
     "text": [
      "Step3 Drop-off rate for test group: 0.08847624249044238\n"
     ]
    }
   ],
   "source": [
    "#Test group drop-off rate for 'step3'\n",
    "s3c_t=t['flag_step3-confirm'].sum()\n",
    "s3drop_t=t['flag_step3-dropoff'].sum()\n",
    "s3drop_rate_t=s3drop_t/(s3drop_t+s3c_t)\n",
    "print(\"Step3 Drop-off rate for test group:\", s3drop_rate_t)"
   ]
  },
  {
   "cell_type": "markdown",
   "metadata": {},
   "source": [
    "### Statistical Test for Drop-Off Rates"
   ]
  },
  {
   "cell_type": "markdown",
   "metadata": {},
   "source": [
    "#### Statistical Test for 'Start' Drop-Off Rates"
   ]
  },
  {
   "cell_type": "code",
   "execution_count": 173,
   "metadata": {},
   "outputs": [
    {
     "name": "stdout",
     "output_type": "stream",
     "text": [
      "Z-statistic for start drop-off rate: 16.72982992926426\n",
      "p-value: 3.973243414373153e-63\n"
     ]
    }
   ],
   "source": [
    "#Right-tailed Proportions Z-Test for Drop-off rate\n",
    "start_drops_offs=np.array([sdrop_c,sdrop_t])\n",
    "start_total=np.array([sdrop_c+ss1_c,sdrop_t+ss1_t])\n",
    "(test_stat, p_value)=proportions_ztest(start_drops_offs,start_total, alternative='larger')\n",
    "print(\"Z-statistic for start drop-off rate:\", test_stat)\n",
    "print(\"p-value:\", p_value)"
   ]
  },
  {
   "cell_type": "markdown",
   "metadata": {},
   "source": [
    "#### Statistical Test for 'Step1' Drop-Off Rates"
   ]
  },
  {
   "cell_type": "code",
   "execution_count": 174,
   "metadata": {},
   "outputs": [
    {
     "name": "stdout",
     "output_type": "stream",
     "text": [
      "Z-statistic for step1 drop-off rate: 12.069593615078004\n",
      "p-value: 7.644371736016304e-34\n"
     ]
    }
   ],
   "source": [
    "#Right-tailed Proportions Z-Test for Drop-off rate\n",
    "step1_drops_offs=np.array([s1drop_c,s1drop_t])\n",
    "step1_total=np.array([s1drop_c+s1s2_c,s1drop_t+s1s2_t])\n",
    "(test_stat, p_value)=proportions_ztest(step1_drops_offs,step1_total, alternative='larger')\n",
    "print(\"Z-statistic for step1 drop-off rate:\", test_stat)\n",
    "print(\"p-value:\", p_value)"
   ]
  },
  {
   "cell_type": "markdown",
   "metadata": {},
   "source": [
    "#### Statistical Test for 'Step2' Drop-Off Rates"
   ]
  },
  {
   "cell_type": "code",
   "execution_count": 175,
   "metadata": {},
   "outputs": [
    {
     "name": "stdout",
     "output_type": "stream",
     "text": [
      "Z-statistic for step2 drop-off rate: 5.830049134236932\n",
      "p-value: 2.770552895429687e-09\n"
     ]
    }
   ],
   "source": [
    "#Right-tailed Proportions Z-Test for Drop-off rate\n",
    "step2_drops_offs=np.array([s2drop_c,s2drop_t])\n",
    "step2_total=np.array([s2drop_c+s2s3_c,s2drop_t+s2s3_t])\n",
    "(test_stat, p_value)=proportions_ztest(step2_drops_offs,step2_total, alternative='larger')\n",
    "print(\"Z-statistic for step2 drop-off rate:\", test_stat)\n",
    "print(\"p-value:\", p_value)"
   ]
  },
  {
   "cell_type": "markdown",
   "metadata": {},
   "source": [
    "#### Statistical Test for 'Step3' Drop-Off rate"
   ]
  },
  {
   "cell_type": "code",
   "execution_count": 176,
   "metadata": {},
   "outputs": [
    {
     "name": "stdout",
     "output_type": "stream",
     "text": [
      "Z-statistic for step3 drop-off rate: 11.712552144347747\n",
      "p-value: 5.496015019152371e-32\n"
     ]
    }
   ],
   "source": [
    "#Right-tailed Proportions Z-Test for Drop-off rate\n",
    "step3_drops_offs=np.array([s3drop_c,s3drop_t])\n",
    "step3_total=np.array([s3drop_c+s3c_c,s2drop_t+s3c_t])\n",
    "(test_stat, p_value)=proportions_ztest(step3_drops_offs,step3_total, alternative='larger')\n",
    "print(\"Z-statistic for step3 drop-off rate:\", test_stat)\n",
    "print(\"p-value:\", p_value)"
   ]
  },
  {
   "cell_type": "markdown",
   "metadata": {},
   "source": [
    "## NAVIGATION TIME"
   ]
  },
  {
   "cell_type": "markdown",
   "metadata": {},
   "source": [
    "#### 𝐴𝑣𝑔. 𝑆𝑡𝑒𝑝 𝑁𝑎𝑣𝑖𝑔𝑎𝑡𝑖𝑜𝑛 𝑇𝑖𝑚𝑒=  (𝑇𝑖𝑚𝑒 𝑡𝑎𝑘𝑒𝑛 𝑖𝑛 𝑡𝑟𝑎𝑛𝑠𝑖𝑡𝑖𝑜𝑛 𝑠𝑡𝑒𝑝𝑠)/(𝑇𝑜𝑡𝑎𝑙 𝑁𝑜. 𝑜𝑓 𝑡𝑟𝑎𝑛𝑠𝑖𝑡𝑖𝑜𝑛𝑠 𝑓𝑟𝑜𝑚 𝑐𝑢𝑟𝑟𝑒𝑛𝑡 𝑠𝑡𝑒𝑝 𝑡𝑜 𝑡ℎ𝑒 𝑛𝑒𝑥𝑡 𝑠𝑡𝑒𝑝)  \n"
   ]
  },
  {
   "cell_type": "markdown",
   "metadata": {},
   "source": [
    "### Avg. Navigation Time for 'Start'"
   ]
  },
  {
   "cell_type": "code",
   "execution_count": 178,
   "metadata": {},
   "outputs": [
    {
     "name": "stdout",
     "output_type": "stream",
     "text": [
      "Avg.Navigation Time for 'Start' for control group: 0 days 00:00:37.643309134\n",
      "Avg.Navigation Time for 'Start' for test group: 0 days 00:00:31.032295789\n"
     ]
    }
   ],
   "source": [
    "s_avgtime_c=c['start_time'].sum()/c['flag_start-step1'].sum()\n",
    "print(\"Avg. Navigation Time for 'Start' for control group:\", s_avgtime_c)\n",
    "s_avgtime_t=t['start_time'].sum()/t['flag_start-step1'].sum()\n",
    "print(\"Avg. Navigation Time for 'Start' for test group:\", s_avgtime_t)"
   ]
  },
  {
   "cell_type": "markdown",
   "metadata": {},
   "source": [
    "### Avg. Navigation Time for 'Step1'"
   ]
  },
  {
   "cell_type": "code",
   "execution_count": 179,
   "metadata": {},
   "outputs": [
    {
     "name": "stdout",
     "output_type": "stream",
     "text": [
      "Avg. Navigation Time for 'Step1' for control group: 0 days 00:00:33.828905514\n",
      "Avg. Navigation Time for 'Step1' for test group: 0 days 00:00:37.098643291\n"
     ]
    }
   ],
   "source": [
    "s1_avgtime_c=c['step1_time'].sum()/c['flag_step1-step2'].sum()\n",
    "print(\"Avg. Navigation Time for 'Step1' for control group:\", s1_avgtime_c)\n",
    "s1_avgtime_t=t['step1_time'].sum()/t['flag_step1-step2'].sum()\n",
    "print(\"Avg. Navigation Time for 'Step1' for test group:\", s1_avgtime_t)"
   ]
  },
  {
   "cell_type": "markdown",
   "metadata": {},
   "source": [
    "### Avg. Navigation Time for 'Step2'"
   ]
  },
  {
   "cell_type": "code",
   "execution_count": 180,
   "metadata": {},
   "outputs": [
    {
     "name": "stdout",
     "output_type": "stream",
     "text": [
      "Avg. Navigation Time for 'Step2' for control group: 0 days 00:01:27.016225368\n",
      "Avg. Navigation Time for 'Step2' for test group: 0 days 00:01:26.468212632\n"
     ]
    }
   ],
   "source": [
    "s2_avgtime_c=c['step2_time'].sum()/c['flag_step2-step3'].sum()\n",
    "print(\"Avg. Navigation Time for 'Step2' for control group:\", s2_avgtime_c)\n",
    "s2_avgtime_t=t['step2_time'].sum()/t['flag_step2-step3'].sum()\n",
    "print(\"Avg. Navigation Time for 'Step2' for test group:\", s2_avgtime_t)"
   ]
  },
  {
   "cell_type": "markdown",
   "metadata": {},
   "source": [
    "### Avg. Navigation Time for 'Step3'"
   ]
  },
  {
   "cell_type": "code",
   "execution_count": 182,
   "metadata": {},
   "outputs": [
    {
     "name": "stdout",
     "output_type": "stream",
     "text": [
      "Avg. Navigation Time for 'Step3' for control group: 0 days 00:02:07.128812671\n",
      "Avg. Navigation Time for 'Step3' for test group: 0 days 00:01:44.843782341\n"
     ]
    }
   ],
   "source": [
    "s3_avgtime_c=c['step3_time'].sum()/c['flag_step3-confirm'].sum()\n",
    "print(\"Avg. Navigation Time for 'Step3' for control group:\", s3_avgtime_c)\n",
    "s3_avgtime_t=t['step3_time'].sum()/t['flag_step3-confirm'].sum()\n",
    "print(\"Avg. Navigation Time for 'Step3' for test group:\", s3_avgtime_t)"
   ]
  },
  {
   "cell_type": "markdown",
   "metadata": {},
   "source": [
    "### Statistical Test for Navigation Time"
   ]
  },
  {
   "cell_type": "code",
   "execution_count": 183,
   "metadata": {},
   "outputs": [],
   "source": [
    "#Converting navigation time into seconds\n",
    "df['start_time_sec']=df['start_time'].dt.total_seconds()\n",
    "df['step1_time_sec']=df['step1_time'].dt.total_seconds()\n",
    "df['step2_time_sec']=df['step2_time'].dt.total_seconds()\n",
    "df['step3_time_sec']=df['step3_time'].dt.total_seconds()"
   ]
  },
  {
   "cell_type": "code",
   "execution_count": 184,
   "metadata": {},
   "outputs": [],
   "source": [
    "#Extracting the time data into series for Z-test\n",
    "#Control Group\n",
    "cs=c['start_time'].dt.total_seconds()\n",
    "cs=cs[cs!=0]\n",
    "cs1=c['step1_time'].dt.total_seconds()\n",
    "cs1=cs1[cs1!=0]\n",
    "cs2=c['step2_time'].dt.total_seconds()\n",
    "cs2=cs2[cs2!=0]\n",
    "cs3=c['step3_time'].dt.total_seconds()\n",
    "cs3=cs3[cs3!=0]\n",
    "#Test Group\n",
    "ts=t['start_time'].dt.total_seconds()\n",
    "ts=ts[ts!=0]\n",
    "ts1=t['step1_time'].dt.total_seconds()\n",
    "ts1=ts1[ts1!=0]\n",
    "ts2=t['step2_time'].dt.total_seconds()\n",
    "ts2=ts2[ts2!=0]\n",
    "ts3=t['step3_time'].dt.total_seconds()\n",
    "ts3=ts3[ts3!=0]"
   ]
  },
  {
   "cell_type": "markdown",
   "metadata": {},
   "source": [
    "#### Statistical Test for 'Start' Navigation Time"
   ]
  },
  {
   "cell_type": "code",
   "execution_count": 185,
   "metadata": {},
   "outputs": [
    {
     "name": "stdout",
     "output_type": "stream",
     "text": [
      "Z-statistic for time spent on 'Start': 9.65320239988468\n",
      "p-value: 2.3822080839738875e-22\n"
     ]
    }
   ],
   "source": [
    "#Right-tailed Z-test for Navigation Time\n",
    "ztest ,pval = stests.ztest(cs,ts,value=0, alternative='larger')\n",
    "print(\"Z-statistic for time spent on 'Start':\", ztest)\n",
    "print(\"p-value:\", pval)"
   ]
  },
  {
   "cell_type": "markdown",
   "metadata": {},
   "source": [
    "#### Statistical Test for 'Step1' Navigation Time"
   ]
  },
  {
   "cell_type": "code",
   "execution_count": 186,
   "metadata": {},
   "outputs": [
    {
     "name": "stdout",
     "output_type": "stream",
     "text": [
      "Z-statistic for time spent on 'Step1': -6.514861618340062\n",
      "p-value: 0.9999999999636217\n"
     ]
    }
   ],
   "source": [
    "#Right-tailed Z-test for 'Step1' Navigation Time\n",
    "ztest ,pval = stests.ztest(cs1,ts1,value=0, alternative='larger')\n",
    "print(\"Z-statistic for time spent on 'Step1':\", ztest)\n",
    "print(\"p-value:\", pval)"
   ]
  },
  {
   "cell_type": "code",
   "execution_count": 187,
   "metadata": {},
   "outputs": [
    {
     "name": "stdout",
     "output_type": "stream",
     "text": [
      "Z-statistic for time spent on 'Step1': -6.514861618340062\n",
      "p-value: 3.637835044913524e-11\n"
     ]
    }
   ],
   "source": [
    "#Left-tailed Z-test for 'Step1' Navigation Time\n",
    "ztest ,pval = stests.ztest(cs1,ts1,value=0, alternative='smaller')\n",
    "print(\"Z-statistic for time spent on 'Step1':\", ztest)\n",
    "print(\"p-value:\", pval)"
   ]
  },
  {
   "cell_type": "markdown",
   "metadata": {},
   "source": [
    "#### Statistical Test for 'Step2' Navigation Time"
   ]
  },
  {
   "cell_type": "code",
   "execution_count": 188,
   "metadata": {},
   "outputs": [
    {
     "name": "stdout",
     "output_type": "stream",
     "text": [
      "Z-statistic for time spent on 'Step2': 0.8222943847865741\n",
      "p-value: 0.20545468588904298\n"
     ]
    }
   ],
   "source": [
    "#Right-tailed Z-test for 'Step2' Navigation Time\n",
    "ztest ,pval = stests.ztest(cs2,ts2,value=0, alternative='larger')\n",
    "print(\"Z-statistic for time spent on 'Step2':\", ztest)\n",
    "print(\"p-value:\", pval)"
   ]
  },
  {
   "cell_type": "code",
   "execution_count": 189,
   "metadata": {},
   "outputs": [
    {
     "name": "stdout",
     "output_type": "stream",
     "text": [
      "Z-statistic for time spent on 'Step2': 0.8222943847865741\n",
      "p-value: 0.7945453141109571\n"
     ]
    }
   ],
   "source": [
    "#Left-tailed Z-test for 'Step2' Navigation Time\n",
    "ztest ,pval = stests.ztest(cs2,ts2,value=0, alternative='smaller')\n",
    "print(\"Z-statistic for time spent on 'Step2':\", ztest)\n",
    "print(\"p-value:\", pval)"
   ]
  },
  {
   "cell_type": "markdown",
   "metadata": {},
   "source": [
    "#### Statistical Test for 'Step3' Navigation Time"
   ]
  },
  {
   "cell_type": "code",
   "execution_count": 190,
   "metadata": {},
   "outputs": [
    {
     "name": "stdout",
     "output_type": "stream",
     "text": [
      "Z-statistic for time spent on 'Step3': 13.256024552164767\n",
      "p-value: 2.081955440019988e-40\n"
     ]
    }
   ],
   "source": [
    "#Right-tailed Z-test for 'Step3' Navigation Time\n",
    "ztest ,pval = stests.ztest(cs3,ts3,value=0, alternative='larger')\n",
    "print(\"Z-statistic for time spent on 'Step3':\", ztest)\n",
    "print(\"p-value:\", pval)"
   ]
  },
  {
   "cell_type": "markdown",
   "metadata": {},
   "source": [
    "## STEP RECURRENCE"
   ]
  },
  {
   "cell_type": "markdown",
   "metadata": {},
   "source": [
    "#### 𝑆𝑡𝑒𝑝 𝑅𝑒𝑐𝑢𝑟𝑟𝑒𝑛𝑐𝑒 𝑀𝑒𝑡𝑟𝑖𝑐=  (𝑁𝑜. 𝑜𝑓 𝑑𝑖𝑠𝑡𝑖𝑛𝑐𝑡 𝑣𝑖𝑠𝑖𝑡𝑠 𝑡𝑜 𝑡ℎ𝑒 𝑠𝑡𝑒𝑝)/(𝑇𝑜𝑡𝑎𝑙 𝑁𝑜. 𝑜𝑓 𝑣𝑖𝑠𝑖𝑡𝑠 (𝑖𝑛𝑐𝑙𝑢𝑑𝑖𝑛𝑔 𝑟𝑒𝑐𝑢𝑟𝑟𝑒𝑛𝑐𝑒𝑠) 𝑡𝑜 𝑡ℎ𝑒 𝑠𝑡𝑒𝑝)"
   ]
  },
  {
   "cell_type": "markdown",
   "metadata": {},
   "source": [
    "### Step Recurrence Metric for 'Start'"
   ]
  },
  {
   "cell_type": "code",
   "execution_count": 208,
   "metadata": {},
   "outputs": [
    {
     "name": "stdout",
     "output_type": "stream",
     "text": [
      "Step Recurrence Metric for 'Start' for control group: 0.6493727542079052\n",
      "Step Recurrence Metric for 'Start' for test group: 0.5871182597605045\n"
     ]
    }
   ],
   "source": [
    "start_total_c=c['flag_start'].sum()\n",
    "rec_start_c=start_num_c/start_total_c\n",
    "print(\"Step Recurrence Metric for 'Start' for control group:\", rec_start_c)\n",
    "start_total_t=t['flag_start'].sum()\n",
    "rec_start_t=start_num_t/start_total_t\n",
    "print(\"Step Recurrence Metric for 'Start' for test group:\", rec_start_t)"
   ]
  },
  {
   "cell_type": "markdown",
   "metadata": {},
   "source": [
    "### Step Recurrence Metric for 'Step1'"
   ]
  },
  {
   "cell_type": "code",
   "execution_count": 209,
   "metadata": {},
   "outputs": [
    {
     "name": "stdout",
     "output_type": "stream",
     "text": [
      "Step Recurrence Metric for 'Step1 for control group': 0.793775499881984\n",
      "Step Recurrence Metric for 'Step1' for test group: 0.7295951281191133\n"
     ]
    }
   ],
   "source": [
    "step1_total_c=c['flag_step1'].sum()\n",
    "step1_num_c=c.groupby('flag_step1')[\"visit_id\"].nunique().iloc[1]\n",
    "rec_step1_c=step1_num_c/step1_total_c\n",
    "print(\"Step Recurrence Metric for 'Step1 for control group':\", rec_step1_c)\n",
    "step1_total_t=t['flag_step1'].sum()\n",
    "step1_num_t=t.groupby('flag_step1')[\"visit_id\"].nunique().iloc[1]\n",
    "rec_step1_t=step1_num_t/step1_total_t\n",
    "print(\"Step Recurrence Metric for 'Step1' for test group:\", rec_step1_t)"
   ]
  },
  {
   "cell_type": "markdown",
   "metadata": {},
   "source": [
    "### Step Recurrence Metric for 'Step2'"
   ]
  },
  {
   "cell_type": "code",
   "execution_count": 193,
   "metadata": {},
   "outputs": [
    {
     "name": "stdout",
     "output_type": "stream",
     "text": [
      "Step Recurrence Metric for 'Step2 for control group': 0.7779495304710747\n",
      "Step Recurrence Metric for 'Step2 for test group': 0.7906578862418491\n"
     ]
    }
   ],
   "source": [
    "step2_total_c=c['flag_step2'].sum()\n",
    "step2_num_c=c.groupby('flag_step2')[\"visit_id\"].nunique().iloc[1]\n",
    "rec_step2_c=step2_num_c/step2_total_c\n",
    "print(\"Step Recurrence Metric for 'Step2 for control group':\", rec_step2_c)\n",
    "step2_total_t=t['flag_step2'].sum()\n",
    "step2_num_t=t.groupby('flag_step2')[\"visit_id\"].nunique().iloc[1]\n",
    "rec_step2_t=step2_num_t/step2_total_t\n",
    "print(\"Step Recurrence Metric for 'Step2 for test group':\", rec_step2_t)"
   ]
  },
  {
   "cell_type": "markdown",
   "metadata": {},
   "source": [
    "### Step Recurrence Metric for 'Step3'"
   ]
  },
  {
   "cell_type": "code",
   "execution_count": 210,
   "metadata": {},
   "outputs": [
    {
     "name": "stdout",
     "output_type": "stream",
     "text": [
      "Step Recurrence Metric for 'Step3 for control group': 0.8027822881467503\n",
      "Step Recurrence Metric for 'Step3 for test group': 0.8567676143386898\n"
     ]
    }
   ],
   "source": [
    "step3_total_c=c['flag_step3'].sum()\n",
    "step3_num_c=c.groupby('flag_step3')[\"visit_id\"].nunique().iloc[1]\n",
    "rec_step3_c=step3_num_c/step3_total_c\n",
    "print(\"Step Recurrence Metric for 'Step3 for control group':\", rec_step3_c)\n",
    "step3_total_t=t['flag_step3'].sum()\n",
    "step3_num_t=t.groupby('flag_step3')[\"visit_id\"].nunique().iloc[1]\n",
    "rec_step3_t=step3_num_t/step3_total_t\n",
    "print(\"Step Recurrence Metric for 'Step3 for test group':\", rec_step3_t)"
   ]
  },
  {
   "cell_type": "markdown",
   "metadata": {},
   "source": [
    "### Step Recurrence Metric for 'Confirm'"
   ]
  },
  {
   "cell_type": "code",
   "execution_count": 196,
   "metadata": {},
   "outputs": [
    {
     "name": "stdout",
     "output_type": "stream",
     "text": [
      "Step Recurrence Metric for 'Confirm for control group': 0.9166190421762487\n",
      "Step Recurrence Metric for 'Confirm for test group': 0.844804790791725\n"
     ]
    }
   ],
   "source": [
    "confirm_total_c=c['flag_confirm'].sum()\n",
    "rec_confirm_c=confirm_num_c/confirm_total_c\n",
    "print(\"Step Recurrence Metric for 'Confirm for control group':\", rec_confirm_c)\n",
    "confirm_total_t=t['flag_confirm'].sum()\n",
    "rec_confirm_t=confirm_num_t/confirm_total_t\n",
    "print(\"Step Recurrence Metric for 'Confirm for test group':\", rec_confirm_t)"
   ]
  },
  {
   "cell_type": "markdown",
   "metadata": {},
   "source": [
    "### Statistical Test for Step Recurrence Metric"
   ]
  },
  {
   "cell_type": "markdown",
   "metadata": {},
   "source": [
    "#### Statistical Test for 'Start' Step Recurrence Metric"
   ]
  },
  {
   "cell_type": "code",
   "execution_count": 200,
   "metadata": {},
   "outputs": [
    {
     "name": "stdout",
     "output_type": "stream",
     "text": [
      "Z-statistic for 'start' step recurrence metric: 20.564545160840638\n",
      "p-value: 2.8516052568600364e-94\n"
     ]
    }
   ],
   "source": [
    "#Right-tailed Proportions Z-test for 'Start' Step Recurrence Metric\n",
    "start_distincts=np.array([start_num_c,start_num_t])\n",
    "start_repeats=np.array([start_total_c,start_total_t])\n",
    "(test_stat, p_value)=proportions_ztest(start_distincts,start_repeats, alternative='larger')\n",
    "print(\"Z-statistic for 'start' step recurrence metric:\", test_stat)\n",
    "print(\"p-value:\", p_value)\n",
    "#means control is sginificantly better (less repetition)"
   ]
  },
  {
   "cell_type": "markdown",
   "metadata": {},
   "source": [
    "#### Statistical Test for 'Step1' Step Recurrence Metric"
   ]
  },
  {
   "cell_type": "code",
   "execution_count": 199,
   "metadata": {},
   "outputs": [
    {
     "name": "stdout",
     "output_type": "stream",
     "text": [
      "Z-statistic for 'step1' step recurrence metric: 19.40715688959821\n",
      "p-value: 3.357042659237477e-84\n"
     ]
    }
   ],
   "source": [
    "#Right-tailed Proportions Z-test for 'Step1' Step Recurrence Metric\n",
    "step1_distincts=np.array([step1_num_c,step1_num_t])\n",
    "step1_repeats=np.array([step1_total_c,step1_total_t])\n",
    "(test_stat, p_value)=proportions_ztest(step1_distincts,step1_repeats, alternative='larger')\n",
    "print(\"Z-statistic for 'step1' step recurrence metric:\", test_stat)\n",
    "print(\"p-value:\", p_value)\n",
    "#means control is sginificantly better (less repetition)"
   ]
  },
  {
   "cell_type": "markdown",
   "metadata": {},
   "source": [
    "#### Statistical Test for 'Step2' Step Recurrence Metric"
   ]
  },
  {
   "cell_type": "code",
   "execution_count": 201,
   "metadata": {},
   "outputs": [
    {
     "name": "stdout",
     "output_type": "stream",
     "text": [
      "Z-statistic for 'step2' step recurrence metric: -3.6723335084827697\n",
      "p-value: 0.00012017286712718416\n"
     ]
    }
   ],
   "source": [
    "#Left-tailed Proportions Z-test for 'Step2' Step Recurrence Metric\n",
    "step2_distincts=np.array([step2_num_c,step2_num_t])\n",
    "step2_repeats=np.array([step2_total_c,step2_total_t])\n",
    "(test_stat, p_value)=proportions_ztest(step2_distincts,step2_repeats, alternative='smaller')\n",
    "print(\"Z-statistic for 'step2' step recurrence metric:\", test_stat)\n",
    "print(\"p-value:\", p_value)\n",
    "#means test is sginificantly better (less repetition)"
   ]
  },
  {
   "cell_type": "markdown",
   "metadata": {},
   "source": [
    "#### Statistical Test for 'Step3' Step Recurrence Metric"
   ]
  },
  {
   "cell_type": "code",
   "execution_count": 202,
   "metadata": {},
   "outputs": [
    {
     "name": "stdout",
     "output_type": "stream",
     "text": [
      "Z-statistic for 'step3' step recurrence metric: -15.877384241372063\n",
      "p-value: 4.544522426549254e-57\n"
     ]
    }
   ],
   "source": [
    "#Left-tailed Proportions Z-test for 'Step3' Step Recurrence Metric\n",
    "step3_distincts=np.array([step3_num_c,step3_num_t])\n",
    "step3_repeats=np.array([step3_total_c,step3_total_t])\n",
    "(test_stat, p_value)=proportions_ztest(step3_distincts,step3_repeats, alternative='smaller')\n",
    "print(\"Z-statistic for 'step3' step recurrence metric:\", test_stat)\n",
    "print(\"p-value:\", p_value)\n",
    "#means test is sginificantly better (less repetition)"
   ]
  },
  {
   "cell_type": "markdown",
   "metadata": {},
   "source": [
    "#### Statistical Test for 'Confirm' Step Recurrence Metric"
   ]
  },
  {
   "cell_type": "code",
   "execution_count": 203,
   "metadata": {},
   "outputs": [
    {
     "name": "stdout",
     "output_type": "stream",
     "text": [
      "Z-statistic for 'confirm' step recurrence metric: 22.074025526098033\n",
      "p-value: 2.8080957599531705e-108\n"
     ]
    }
   ],
   "source": [
    "#Right-tailed Proportions Z-test for 'Confirm' Step Recurrence Metric\n",
    "confirm_distincts=np.array([confirm_num_c,confirm_num_t])\n",
    "confirm_repeats=np.array([confirm_total_c,confirm_total_t])\n",
    "(test_stat, p_value)=proportions_ztest(confirm_distincts,confirm_repeats, alternative='larger')\n",
    "print(\"Z-statistic for 'confirm' step recurrence metric:\", test_stat)\n",
    "print(\"p-value:\", p_value)\n",
    "#means control is sginificantly better (less repetition)"
   ]
  },
  {
   "cell_type": "markdown",
   "metadata": {},
   "source": [
    "## BOUNCE RATE"
   ]
  },
  {
   "cell_type": "markdown",
   "metadata": {},
   "source": [
    "### Statistical Test for Bounce Rate"
   ]
  },
  {
   "cell_type": "code",
   "execution_count": 205,
   "metadata": {},
   "outputs": [
    {
     "name": "stdout",
     "output_type": "stream",
     "text": [
      "Z-statistic for bounce rate: 29.19109740140733\n",
      "p-value: 1.2577899941103366e-187\n"
     ]
    }
   ],
   "source": [
    "#Right-tailed Proportions Z-Test for Bounce rate\n",
    "#Values from Excel Pivot \n",
    "from statsmodels.stats.proportion import proportions_ztest\n",
    "bounces=np.array([7629,5132])\n",
    "total_visits=np.array([30835,33096])\n",
    "(test_stat, p_value)=proportions_ztest(bounces,total_visits, alternative='larger')\n",
    "print(\"Z-statistic for bounce rate:\", test_stat)\n",
    "print(\"p-value:\", p_value)"
   ]
  }
 ],
 "metadata": {
  "kernelspec": {
   "display_name": "Python 3",
   "language": "python",
   "name": "python3"
  },
  "language_info": {
   "codemirror_mode": {
    "name": "ipython",
    "version": 3
   },
   "file_extension": ".py",
   "mimetype": "text/x-python",
   "name": "python",
   "nbconvert_exporter": "python",
   "pygments_lexer": "ipython3",
   "version": "3.7.4"
  }
 },
 "nbformat": 4,
 "nbformat_minor": 2
}
